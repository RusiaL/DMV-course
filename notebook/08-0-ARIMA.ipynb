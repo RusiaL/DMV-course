{
 "cells": [
  {
   "cell_type": "markdown",
   "id": "a84b0196",
   "metadata": {},
   "source": [
    "The data are taken from <b>European Centre for Disease Prevention and Control</b> <br>\n",
    "https://www.ecdc.europa.eu/en/publications-data/download-historical-data-20-june-2022-weekly-number-new-reported-covid-19-cases"
   ]
  },
  {
   "cell_type": "code",
   "execution_count": 1,
   "id": "1340daf5",
   "metadata": {},
   "outputs": [],
   "source": [
    "import numpy as np             #for numerical computations like log,exp,sqrt etc\n",
    "import pandas as pd            #for reading & storing data, pre-processing\n",
    "\n",
    "from datetime import datetime\n",
    "\n",
    "from statsmodels.tsa.stattools import adfuller\n",
    "from statsmodels.tsa.arima.model import ARIMA\n",
    "\n",
    "import matplotlib.pylab as plt #for visualization\n",
    "\n",
    "%matplotlib inline"
   ]
  },
  {
   "cell_type": "code",
   "execution_count": 2,
   "id": "ec10d95c",
   "metadata": {},
   "outputs": [
    {
     "data": {
      "text/html": [
       "<div>\n",
       "<style scoped>\n",
       "    .dataframe tbody tr th:only-of-type {\n",
       "        vertical-align: middle;\n",
       "    }\n",
       "\n",
       "    .dataframe tbody tr th {\n",
       "        vertical-align: top;\n",
       "    }\n",
       "\n",
       "    .dataframe thead th {\n",
       "        text-align: right;\n",
       "    }\n",
       "</style>\n",
       "<table border=\"1\" class=\"dataframe\">\n",
       "  <thead>\n",
       "    <tr style=\"text-align: right;\">\n",
       "      <th></th>\n",
       "      <th>country</th>\n",
       "      <th>country_code</th>\n",
       "      <th>continent</th>\n",
       "      <th>population</th>\n",
       "      <th>indicator</th>\n",
       "      <th>weekly_count</th>\n",
       "      <th>year_week</th>\n",
       "      <th>rate_14_day</th>\n",
       "      <th>cumulative_count</th>\n",
       "      <th>source</th>\n",
       "      <th>note</th>\n",
       "    </tr>\n",
       "  </thead>\n",
       "  <tbody>\n",
       "    <tr>\n",
       "      <th>0</th>\n",
       "      <td>Afghanistan</td>\n",
       "      <td>AFG</td>\n",
       "      <td>Asia</td>\n",
       "      <td>38928341</td>\n",
       "      <td>cases</td>\n",
       "      <td>0.0</td>\n",
       "      <td>2020-01</td>\n",
       "      <td>NaN</td>\n",
       "      <td>0.0</td>\n",
       "      <td>Epidemic intelligence national data</td>\n",
       "      <td>NaN</td>\n",
       "    </tr>\n",
       "    <tr>\n",
       "      <th>1</th>\n",
       "      <td>Afghanistan</td>\n",
       "      <td>AFG</td>\n",
       "      <td>Asia</td>\n",
       "      <td>38928341</td>\n",
       "      <td>cases</td>\n",
       "      <td>0.0</td>\n",
       "      <td>2020-02</td>\n",
       "      <td>0.0</td>\n",
       "      <td>0.0</td>\n",
       "      <td>Epidemic intelligence national data</td>\n",
       "      <td>NaN</td>\n",
       "    </tr>\n",
       "    <tr>\n",
       "      <th>2</th>\n",
       "      <td>Afghanistan</td>\n",
       "      <td>AFG</td>\n",
       "      <td>Asia</td>\n",
       "      <td>38928341</td>\n",
       "      <td>cases</td>\n",
       "      <td>0.0</td>\n",
       "      <td>2020-03</td>\n",
       "      <td>0.0</td>\n",
       "      <td>0.0</td>\n",
       "      <td>Epidemic intelligence national data</td>\n",
       "      <td>NaN</td>\n",
       "    </tr>\n",
       "    <tr>\n",
       "      <th>3</th>\n",
       "      <td>Afghanistan</td>\n",
       "      <td>AFG</td>\n",
       "      <td>Asia</td>\n",
       "      <td>38928341</td>\n",
       "      <td>cases</td>\n",
       "      <td>0.0</td>\n",
       "      <td>2020-04</td>\n",
       "      <td>0.0</td>\n",
       "      <td>0.0</td>\n",
       "      <td>Epidemic intelligence national data</td>\n",
       "      <td>NaN</td>\n",
       "    </tr>\n",
       "    <tr>\n",
       "      <th>4</th>\n",
       "      <td>Afghanistan</td>\n",
       "      <td>AFG</td>\n",
       "      <td>Asia</td>\n",
       "      <td>38928341</td>\n",
       "      <td>cases</td>\n",
       "      <td>0.0</td>\n",
       "      <td>2020-05</td>\n",
       "      <td>0.0</td>\n",
       "      <td>0.0</td>\n",
       "      <td>Epidemic intelligence national data</td>\n",
       "      <td>NaN</td>\n",
       "    </tr>\n",
       "  </tbody>\n",
       "</table>\n",
       "</div>"
      ],
      "text/plain": [
       "       country country_code continent  population indicator  weekly_count  \\\n",
       "0  Afghanistan          AFG      Asia    38928341     cases           0.0   \n",
       "1  Afghanistan          AFG      Asia    38928341     cases           0.0   \n",
       "2  Afghanistan          AFG      Asia    38928341     cases           0.0   \n",
       "3  Afghanistan          AFG      Asia    38928341     cases           0.0   \n",
       "4  Afghanistan          AFG      Asia    38928341     cases           0.0   \n",
       "\n",
       "  year_week  rate_14_day  cumulative_count  \\\n",
       "0   2020-01          NaN               0.0   \n",
       "1   2020-02          0.0               0.0   \n",
       "2   2020-03          0.0               0.0   \n",
       "3   2020-04          0.0               0.0   \n",
       "4   2020-05          0.0               0.0   \n",
       "\n",
       "                                source  note  \n",
       "0  Epidemic intelligence national data   NaN  \n",
       "1  Epidemic intelligence national data   NaN  \n",
       "2  Epidemic intelligence national data   NaN  \n",
       "3  Epidemic intelligence national data   NaN  \n",
       "4  Epidemic intelligence national data   NaN  "
      ]
     },
     "execution_count": 2,
     "metadata": {},
     "output_type": "execute_result"
    }
   ],
   "source": [
    "df = pd.read_csv(\"data/08-covid-19.csv\")\n",
    "df.head()"
   ]
  },
  {
   "cell_type": "markdown",
   "id": "c3260892",
   "metadata": {},
   "source": [
    "## Data preparation and checks"
   ]
  },
  {
   "cell_type": "code",
   "execution_count": 3,
   "id": "5628fa54",
   "metadata": {},
   "outputs": [
    {
     "data": {
      "text/html": [
       "<div>\n",
       "<style scoped>\n",
       "    .dataframe tbody tr th:only-of-type {\n",
       "        vertical-align: middle;\n",
       "    }\n",
       "\n",
       "    .dataframe tbody tr th {\n",
       "        vertical-align: top;\n",
       "    }\n",
       "\n",
       "    .dataframe thead th {\n",
       "        text-align: right;\n",
       "    }\n",
       "</style>\n",
       "<table border=\"1\" class=\"dataframe\">\n",
       "  <thead>\n",
       "    <tr style=\"text-align: right;\">\n",
       "      <th></th>\n",
       "      <th>indicator</th>\n",
       "      <th>year_week</th>\n",
       "      <th>weekly_count</th>\n",
       "    </tr>\n",
       "  </thead>\n",
       "  <tbody>\n",
       "    <tr>\n",
       "      <th>18886</th>\n",
       "      <td>cases</td>\n",
       "      <td>2020-01</td>\n",
       "      <td>1.0</td>\n",
       "    </tr>\n",
       "    <tr>\n",
       "      <th>18887</th>\n",
       "      <td>cases</td>\n",
       "      <td>2020-02</td>\n",
       "      <td>0.0</td>\n",
       "    </tr>\n",
       "    <tr>\n",
       "      <th>18888</th>\n",
       "      <td>cases</td>\n",
       "      <td>2020-03</td>\n",
       "      <td>0.0</td>\n",
       "    </tr>\n",
       "    <tr>\n",
       "      <th>18889</th>\n",
       "      <td>cases</td>\n",
       "      <td>2020-04</td>\n",
       "      <td>1.0</td>\n",
       "    </tr>\n",
       "    <tr>\n",
       "      <th>18890</th>\n",
       "      <td>cases</td>\n",
       "      <td>2020-05</td>\n",
       "      <td>10.0</td>\n",
       "    </tr>\n",
       "    <tr>\n",
       "      <th>...</th>\n",
       "      <td>...</td>\n",
       "      <td>...</td>\n",
       "      <td>...</td>\n",
       "    </tr>\n",
       "    <tr>\n",
       "      <th>19137</th>\n",
       "      <td>deaths</td>\n",
       "      <td>2022-19</td>\n",
       "      <td>519.0</td>\n",
       "    </tr>\n",
       "    <tr>\n",
       "      <th>19138</th>\n",
       "      <td>deaths</td>\n",
       "      <td>2022-20</td>\n",
       "      <td>326.0</td>\n",
       "    </tr>\n",
       "    <tr>\n",
       "      <th>19139</th>\n",
       "      <td>deaths</td>\n",
       "      <td>2022-21</td>\n",
       "      <td>258.0</td>\n",
       "    </tr>\n",
       "    <tr>\n",
       "      <th>19140</th>\n",
       "      <td>deaths</td>\n",
       "      <td>2022-22</td>\n",
       "      <td>158.0</td>\n",
       "    </tr>\n",
       "    <tr>\n",
       "      <th>19141</th>\n",
       "      <td>deaths</td>\n",
       "      <td>2022-23</td>\n",
       "      <td>120.0</td>\n",
       "    </tr>\n",
       "  </tbody>\n",
       "</table>\n",
       "<p>256 rows × 3 columns</p>\n",
       "</div>"
      ],
      "text/plain": [
       "      indicator year_week  weekly_count\n",
       "18886     cases   2020-01           1.0\n",
       "18887     cases   2020-02           0.0\n",
       "18888     cases   2020-03           0.0\n",
       "18889     cases   2020-04           1.0\n",
       "18890     cases   2020-05          10.0\n",
       "...         ...       ...           ...\n",
       "19137    deaths   2022-19         519.0\n",
       "19138    deaths   2022-20         326.0\n",
       "19139    deaths   2022-21         258.0\n",
       "19140    deaths   2022-22         158.0\n",
       "19141    deaths   2022-23         120.0\n",
       "\n",
       "[256 rows x 3 columns]"
      ]
     },
     "execution_count": 3,
     "metadata": {},
     "output_type": "execute_result"
    }
   ],
   "source": [
    "## Read the Germany's records only\n",
    "DEU_df = df[df['country_code'] == 'DEU'][['indicator', 'year_week', 'weekly_count']]\n",
    "DEU_df"
   ]
  },
  {
   "cell_type": "code",
   "execution_count": 4,
   "id": "a2213606",
   "metadata": {},
   "outputs": [
    {
     "data": {
      "text/html": [
       "<div>\n",
       "<style scoped>\n",
       "    .dataframe tbody tr th:only-of-type {\n",
       "        vertical-align: middle;\n",
       "    }\n",
       "\n",
       "    .dataframe tbody tr th {\n",
       "        vertical-align: top;\n",
       "    }\n",
       "\n",
       "    .dataframe thead th {\n",
       "        text-align: right;\n",
       "    }\n",
       "</style>\n",
       "<table border=\"1\" class=\"dataframe\">\n",
       "  <thead>\n",
       "    <tr style=\"text-align: right;\">\n",
       "      <th></th>\n",
       "      <th>weekly_count</th>\n",
       "    </tr>\n",
       "    <tr>\n",
       "      <th>year_week</th>\n",
       "      <th></th>\n",
       "    </tr>\n",
       "  </thead>\n",
       "  <tbody>\n",
       "    <tr>\n",
       "      <th>2020-01</th>\n",
       "      <td>1.0</td>\n",
       "    </tr>\n",
       "    <tr>\n",
       "      <th>2020-02</th>\n",
       "      <td>0.0</td>\n",
       "    </tr>\n",
       "    <tr>\n",
       "      <th>2020-03</th>\n",
       "      <td>0.0</td>\n",
       "    </tr>\n",
       "    <tr>\n",
       "      <th>2020-04</th>\n",
       "      <td>1.0</td>\n",
       "    </tr>\n",
       "    <tr>\n",
       "      <th>2020-05</th>\n",
       "      <td>10.0</td>\n",
       "    </tr>\n",
       "    <tr>\n",
       "      <th>...</th>\n",
       "      <td>...</td>\n",
       "    </tr>\n",
       "    <tr>\n",
       "      <th>2022-19</th>\n",
       "      <td>408970.0</td>\n",
       "    </tr>\n",
       "    <tr>\n",
       "      <th>2022-20</th>\n",
       "      <td>292610.0</td>\n",
       "    </tr>\n",
       "    <tr>\n",
       "      <th>2022-21</th>\n",
       "      <td>186674.0</td>\n",
       "    </tr>\n",
       "    <tr>\n",
       "      <th>2022-22</th>\n",
       "      <td>244116.0</td>\n",
       "    </tr>\n",
       "    <tr>\n",
       "      <th>2022-23</th>\n",
       "      <td>320468.0</td>\n",
       "    </tr>\n",
       "  </tbody>\n",
       "</table>\n",
       "<p>128 rows × 1 columns</p>\n",
       "</div>"
      ],
      "text/plain": [
       "           weekly_count\n",
       "year_week              \n",
       "2020-01             1.0\n",
       "2020-02             0.0\n",
       "2020-03             0.0\n",
       "2020-04             1.0\n",
       "2020-05            10.0\n",
       "...                 ...\n",
       "2022-19        408970.0\n",
       "2022-20        292610.0\n",
       "2022-21        186674.0\n",
       "2022-22        244116.0\n",
       "2022-23        320468.0\n",
       "\n",
       "[128 rows x 1 columns]"
      ]
     },
     "execution_count": 4,
     "metadata": {},
     "output_type": "execute_result"
    }
   ],
   "source": [
    "## Get the cases records\n",
    "DEU_cases = DEU_df[DEU_df['indicator'] == 'cases'][['year_week', 'weekly_count']]\n",
    "\n",
    "DEU_cases = DEU_cases.set_index(['year_week'])\n",
    "DEU_cases"
   ]
  },
  {
   "cell_type": "code",
   "execution_count": 5,
   "id": "95269342",
   "metadata": {},
   "outputs": [
    {
     "data": {
      "text/plain": [
       "[<matplotlib.lines.Line2D at 0x17eddce6b50>]"
      ]
     },
     "execution_count": 5,
     "metadata": {},
     "output_type": "execute_result"
    },
    {
     "data": {
      "image/png": "[encoded data removed]",
      "text/plain": [
       "<Figure size 432x288 with 1 Axes>"
      ]
     },
     "metadata": {
      "needs_background": "light"
     },
     "output_type": "display_data"
    }
   ],
   "source": [
    "## plot graph\n",
    "plt.xlabel('Date')\n",
    "plt.ylabel('Number of cases')\n",
    "plt.plot(DEU_cases)"
   ]
  },
  {
   "cell_type": "code",
   "execution_count": 6,
   "id": "7efd2047",
   "metadata": {},
   "outputs": [
    {
     "data": {
      "text/html": [
       "<div>\n",
       "<style scoped>\n",
       "    .dataframe tbody tr th:only-of-type {\n",
       "        vertical-align: middle;\n",
       "    }\n",
       "\n",
       "    .dataframe tbody tr th {\n",
       "        vertical-align: top;\n",
       "    }\n",
       "\n",
       "    .dataframe thead th {\n",
       "        text-align: right;\n",
       "    }\n",
       "</style>\n",
       "<table border=\"1\" class=\"dataframe\">\n",
       "  <thead>\n",
       "    <tr style=\"text-align: right;\">\n",
       "      <th></th>\n",
       "      <th>weekly_count</th>\n",
       "    </tr>\n",
       "    <tr>\n",
       "      <th>year_week</th>\n",
       "      <th></th>\n",
       "    </tr>\n",
       "  </thead>\n",
       "  <tbody>\n",
       "    <tr>\n",
       "      <th>2020-01</th>\n",
       "      <td>0.0</td>\n",
       "    </tr>\n",
       "    <tr>\n",
       "      <th>2020-02</th>\n",
       "      <td>0.0</td>\n",
       "    </tr>\n",
       "    <tr>\n",
       "      <th>2020-03</th>\n",
       "      <td>0.0</td>\n",
       "    </tr>\n",
       "    <tr>\n",
       "      <th>2020-04</th>\n",
       "      <td>0.0</td>\n",
       "    </tr>\n",
       "    <tr>\n",
       "      <th>2020-05</th>\n",
       "      <td>0.0</td>\n",
       "    </tr>\n",
       "  </tbody>\n",
       "</table>\n",
       "</div>"
      ],
      "text/plain": [
       "           weekly_count\n",
       "year_week              \n",
       "2020-01             0.0\n",
       "2020-02             0.0\n",
       "2020-03             0.0\n",
       "2020-04             0.0\n",
       "2020-05             0.0"
      ]
     },
     "execution_count": 6,
     "metadata": {},
     "output_type": "execute_result"
    }
   ],
   "source": [
    "## Get the deaths records\n",
    "DEU_deaths = DEU_df[DEU_df['indicator'] == 'deaths'][['year_week', 'weekly_count']]\n",
    "DEU_deaths = DEU_deaths.set_index(['year_week'])\n",
    "DEU_deaths.head()"
   ]
  },
  {
   "cell_type": "markdown",
   "id": "1cfbcdb6",
   "metadata": {},
   "source": [
    "# Stationarity Checking"
   ]
  },
  {
   "cell_type": "markdown",
   "id": "985d0147",
   "metadata": {},
   "source": [
    "## Rolling statistics - A visual test"
   ]
  },
  {
   "cell_type": "code",
   "execution_count": 7,
   "id": "19dbc665",
   "metadata": {},
   "outputs": [],
   "source": [
    "rolmean = DEU_cases.rolling(window=12).mean()\n",
    "rolstd = DEU_cases.rolling(window=12).std()"
   ]
  },
  {
   "cell_type": "code",
   "execution_count": 8,
   "id": "cb3faed5",
   "metadata": {},
   "outputs": [
    {
     "data": {
      "text/plain": [
       "Text(0.5, 1.0, 'Rolling Mean and Standard deviation\\n')"
      ]
     },
     "execution_count": 8,
     "metadata": {},
     "output_type": "execute_result"
    },
    {
     "data": {
      "image/png": "[encoded data removed]",
      "text/plain": [
       "<Figure size 432x288 with 1 Axes>"
      ]
     },
     "metadata": {
      "needs_background": "light"
     },
     "output_type": "display_data"
    }
   ],
   "source": [
    "plt.plot(DEU_cases, color='blue', label='Original')\n",
    "plt.plot(rolmean, color='red', label='Rolling Mean')\n",
    "plt.plot(rolstd, color='black', label='Rolling Std')\n",
    "\n",
    "plt.legend(loc='best')\n",
    "plt.title('Rolling Mean and Standard deviation\\n')"
   ]
  },
  {
   "cell_type": "markdown",
   "id": "c319c47d",
   "metadata": {},
   "source": [
    "The mean and standard deviation are not stationary. So, the time seires is not stationary."
   ]
  },
  {
   "cell_type": "markdown",
   "id": "2e3a1bea",
   "metadata": {},
   "source": [
    "## Dickey Fuller test"
   ]
  },
  {
   "cell_type": "code",
   "execution_count": 9,
   "id": "c9999a9c",
   "metadata": {},
   "outputs": [
    {
     "name": "stdout",
     "output_type": "stream",
     "text": [
      "Test Statistic: -1.988680\n",
      "p-value: 0.291558\n",
      "Critical Values:\n",
      "\t1%: -3.486\n",
      "\t5%: -2.886\n",
      "\t10%: -2.580\n",
      "Failed to Reject Ho - Time Series is Non-Stationary\n"
     ]
    }
   ],
   "source": [
    "dftest = adfuller(DEU_cases['weekly_count'], autolag='AIC')\n",
    "\n",
    "print('Test Statistic: %f' % dftest[0])\n",
    "\n",
    "print('p-value: %f' % dftest[1])\n",
    "\n",
    "print('Critical Values:')\n",
    "for key, value in dftest[4].items():\n",
    "    print('\\t%s: %.3f' % (key, value))\n",
    "\n",
    "if dftest[0] < dftest[4][\"5%\"]:\n",
    "    print (\"Reject Ho - Time Series is Stationary\")\n",
    "else:\n",
    "    print (\"Failed to Reject Ho - Time Series is Non-Stationary\")"
   ]
  },
  {
   "cell_type": "markdown",
   "id": "892c092f",
   "metadata": {},
   "source": [
    "## Forecasting with ARIMA model"
   ]
  },
  {
   "cell_type": "code",
   "execution_count": 10,
   "id": "a837e397",
   "metadata": {},
   "outputs": [
    {
     "name": "stderr",
     "output_type": "stream",
     "text": [
      "C:\\Users\\vira.liubchenko\\Anaconda3\\lib\\site-packages\\statsmodels\\tsa\\base\\tsa_model.py:578: ValueWarning: An unsupported index was provided and will be ignored when e.g. forecasting.\n",
      "  warnings.warn('An unsupported index was provided and will be'\n",
      "C:\\Users\\vira.liubchenko\\Anaconda3\\lib\\site-packages\\statsmodels\\tsa\\base\\tsa_model.py:578: ValueWarning: An unsupported index was provided and will be ignored when e.g. forecasting.\n",
      "  warnings.warn('An unsupported index was provided and will be'\n",
      "C:\\Users\\vira.liubchenko\\Anaconda3\\lib\\site-packages\\statsmodels\\tsa\\base\\tsa_model.py:578: ValueWarning: An unsupported index was provided and will be ignored when e.g. forecasting.\n",
      "  warnings.warn('An unsupported index was provided and will be'\n"
     ]
    },
    {
     "name": "stdout",
     "output_type": "stream",
     "text": [
      "                               SARIMAX Results                                \n",
      "==============================================================================\n",
      "Dep. Variable:           weekly_count   No. Observations:                  128\n",
      "Model:                 ARIMA(1, 2, 1)   Log Likelihood               -1549.328\n",
      "Date:                Thu, 03 Nov 2022   AIC                           3104.655\n",
      "Time:                        17:47:58   BIC                           3113.164\n",
      "Sample:                             0   HQIC                          3108.112\n",
      "                                - 128                                         \n",
      "Covariance Type:                  opg                                         \n",
      "==============================================================================\n",
      "                 coef    std err          z      P>|z|      [0.025      0.975]\n",
      "------------------------------------------------------------------------------\n",
      "ar.L1          0.0944      0.091      1.039      0.299      -0.084       0.273\n",
      "ma.L1          0.3369      0.104      3.250      0.001       0.134       0.540\n",
      "sigma2      3.022e+09   4.07e-11   7.43e+19      0.000    3.02e+09    3.02e+09\n",
      "===================================================================================\n",
      "Ljung-Box (L1) (Q):                   0.02   Jarque-Bera (JB):               254.55\n",
      "Prob(Q):                              0.89   Prob(JB):                         0.00\n",
      "Heteroskedasticity (H):             517.56   Skew:                            -0.60\n",
      "Prob(H) (two-sided):                  0.00   Kurtosis:                         9.86\n",
      "===================================================================================\n",
      "\n",
      "Warnings:\n",
      "[1] Covariance matrix calculated using the outer product of gradients (complex-step).\n",
      "[2] Covariance matrix is singular or near-singular, with condition number 8.49e+35. Standard errors may be unstable.\n"
     ]
    },
    {
     "data": {
      "image/png": "[encoded data removed]",
      "text/plain": [
       "<Figure size 432x288 with 1 Axes>"
      ]
     },
     "metadata": {
      "needs_background": "light"
     },
     "output_type": "display_data"
    },
    {
     "data": {
      "image/png": "[encoded data removed]",
      "text/plain": [
       "<Figure size 432x288 with 1 Axes>"
      ]
     },
     "metadata": {
      "needs_background": "light"
     },
     "output_type": "display_data"
    },
    {
     "name": "stdout",
     "output_type": "stream",
     "text": [
      "                   0\n",
      "count     127.000000\n",
      "mean      325.092072\n",
      "std     52881.812617\n",
      "min   -254980.478329\n",
      "25%     -5697.097913\n",
      "50%       205.397259\n",
      "75%      4809.801059\n",
      "max    185518.010453\n"
     ]
    }
   ],
   "source": [
    "# ARIMA model with (1,2,1)\n",
    "model = ARIMA(DEU_cases, order=(1,2,1))\n",
    "\n",
    "# fit model\n",
    "result_ARIMA = model.fit()\n",
    "\n",
    "# summary of fit model\n",
    "print(result_ARIMA.summary())\n",
    "\n",
    "# line plot of residuals\n",
    "residuals = pd.DataFrame(result_ARIMA.resid)\n",
    "residuals = residuals.drop(residuals.index[0])\n",
    "residuals.plot()\n",
    "plt.show()\n",
    "\n",
    "# density plot of residuals\n",
    "residuals.plot(kind='kde')\n",
    "plt.show()\n",
    "\n",
    "# summary stats of residuals\n",
    "print(residuals.describe())"
   ]
  },
  {
   "cell_type": "code",
   "execution_count": 11,
   "id": "b57d3da2",
   "metadata": {},
   "outputs": [
    {
     "data": {
      "text/plain": [
       "year_week\n",
       "2020-01    0.000000\n",
       "2020-02    2.377591\n",
       "2020-03   -1.975104\n",
       "2020-04    0.758451\n",
       "2020-05    2.175779\n",
       "dtype: float64"
      ]
     },
     "execution_count": 11,
     "metadata": {},
     "output_type": "execute_result"
    }
   ],
   "source": [
    "predictions_ARIMA_diff = pd.Series(result_ARIMA.fittedvalues, copy=True)\n",
    "predictions_ARIMA_diff.head()"
   ]
  },
  {
   "cell_type": "code",
   "execution_count": 12,
   "id": "48011d42",
   "metadata": {},
   "outputs": [
    {
     "data": {
      "text/plain": [
       "[<matplotlib.lines.Line2D at 0x17ee0e56c70>]"
      ]
     },
     "execution_count": 12,
     "metadata": {},
     "output_type": "execute_result"
    },
    {
     "data": {
      "image/png": "[encoded data removed]",
      "text/plain": [
       "<Figure size 432x288 with 1 Axes>"
      ]
     },
     "metadata": {
      "needs_background": "light"
     },
     "output_type": "display_data"
    }
   ],
   "source": [
    "predictions = predictions_ARIMA_diff.drop(predictions_ARIMA_diff.index[0])\n",
    "plt.plot(predictions)"
   ]
  },
  {
   "cell_type": "code",
   "execution_count": null,
   "id": "673bb296",
   "metadata": {},
   "outputs": [],
   "source": []
  }
 ],
 "metadata": {
  "kernelspec": {
   "display_name": "Python 3 (ipykernel)",
   "language": "python",
   "name": "python3"
  },
  "language_info": {
   "codemirror_mode": {
    "name": "ipython",
    "version": 3
   },
   "file_extension": ".py",
   "mimetype": "text/x-python",
   "name": "python",
   "nbconvert_exporter": "python",
   "pygments_lexer": "ipython3",
   "version": "3.9.7"
  }
 },
 "nbformat": 4,
 "nbformat_minor": 5
}
