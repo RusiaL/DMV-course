{
 "cells": [
  {
   "cell_type": "code",
   "execution_count": 1,
   "id": "b1dbbd01",
   "metadata": {},
   "outputs": [],
   "source": [
    "import numpy as np\n",
    "import pandas as pd\n",
    "from sklearn import linear_model"
   ]
  },
  {
   "cell_type": "code",
   "execution_count": 2,
   "id": "93721a02",
   "metadata": {},
   "outputs": [
    {
     "data": {
      "text/html": [
       "<div>\n",
       "<style scoped>\n",
       "    .dataframe tbody tr th:only-of-type {\n",
       "        vertical-align: middle;\n",
       "    }\n",
       "\n",
       "    .dataframe tbody tr th {\n",
       "        vertical-align: top;\n",
       "    }\n",
       "\n",
       "    .dataframe thead th {\n",
       "        text-align: right;\n",
       "    }\n",
       "</style>\n",
       "<table border=\"1\" class=\"dataframe\">\n",
       "  <thead>\n",
       "    <tr style=\"text-align: right;\">\n",
       "      <th></th>\n",
       "      <th>symboling</th>\n",
       "      <th>normalized-losses</th>\n",
       "      <th>make</th>\n",
       "      <th>fuel-type</th>\n",
       "      <th>aspiration</th>\n",
       "      <th>num-of-doors</th>\n",
       "      <th>drive-wheels</th>\n",
       "      <th>engine-location</th>\n",
       "      <th>wheel-base</th>\n",
       "      <th>length</th>\n",
       "      <th>...</th>\n",
       "      <th>horsepower</th>\n",
       "      <th>peak-rpm</th>\n",
       "      <th>city-mpg</th>\n",
       "      <th>highway-mpg</th>\n",
       "      <th>price</th>\n",
       "      <th>body-style_convertible</th>\n",
       "      <th>body-style_hardtop</th>\n",
       "      <th>body-style_hatchback</th>\n",
       "      <th>body-style_sedan</th>\n",
       "      <th>body-style_wagon</th>\n",
       "    </tr>\n",
       "  </thead>\n",
       "  <tbody>\n",
       "    <tr>\n",
       "      <th>0</th>\n",
       "      <td>3</td>\n",
       "      <td>115.0</td>\n",
       "      <td>alfa-romero</td>\n",
       "      <td>gas</td>\n",
       "      <td>std</td>\n",
       "      <td>two</td>\n",
       "      <td>rwd</td>\n",
       "      <td>front</td>\n",
       "      <td>88.6</td>\n",
       "      <td>168.8</td>\n",
       "      <td>...</td>\n",
       "      <td>111.0</td>\n",
       "      <td>5000.0</td>\n",
       "      <td>21</td>\n",
       "      <td>27</td>\n",
       "      <td>13495.0</td>\n",
       "      <td>1</td>\n",
       "      <td>0</td>\n",
       "      <td>0</td>\n",
       "      <td>0</td>\n",
       "      <td>0</td>\n",
       "    </tr>\n",
       "    <tr>\n",
       "      <th>1</th>\n",
       "      <td>3</td>\n",
       "      <td>115.0</td>\n",
       "      <td>alfa-romero</td>\n",
       "      <td>gas</td>\n",
       "      <td>std</td>\n",
       "      <td>two</td>\n",
       "      <td>rwd</td>\n",
       "      <td>front</td>\n",
       "      <td>88.6</td>\n",
       "      <td>168.8</td>\n",
       "      <td>...</td>\n",
       "      <td>111.0</td>\n",
       "      <td>5000.0</td>\n",
       "      <td>21</td>\n",
       "      <td>27</td>\n",
       "      <td>16500.0</td>\n",
       "      <td>1</td>\n",
       "      <td>0</td>\n",
       "      <td>0</td>\n",
       "      <td>0</td>\n",
       "      <td>0</td>\n",
       "    </tr>\n",
       "    <tr>\n",
       "      <th>2</th>\n",
       "      <td>1</td>\n",
       "      <td>115.0</td>\n",
       "      <td>alfa-romero</td>\n",
       "      <td>gas</td>\n",
       "      <td>std</td>\n",
       "      <td>two</td>\n",
       "      <td>rwd</td>\n",
       "      <td>front</td>\n",
       "      <td>94.5</td>\n",
       "      <td>171.2</td>\n",
       "      <td>...</td>\n",
       "      <td>154.0</td>\n",
       "      <td>5000.0</td>\n",
       "      <td>19</td>\n",
       "      <td>26</td>\n",
       "      <td>16500.0</td>\n",
       "      <td>0</td>\n",
       "      <td>0</td>\n",
       "      <td>1</td>\n",
       "      <td>0</td>\n",
       "      <td>0</td>\n",
       "    </tr>\n",
       "    <tr>\n",
       "      <th>3</th>\n",
       "      <td>2</td>\n",
       "      <td>164.0</td>\n",
       "      <td>audi</td>\n",
       "      <td>gas</td>\n",
       "      <td>std</td>\n",
       "      <td>four</td>\n",
       "      <td>fwd</td>\n",
       "      <td>front</td>\n",
       "      <td>99.8</td>\n",
       "      <td>176.6</td>\n",
       "      <td>...</td>\n",
       "      <td>102.0</td>\n",
       "      <td>5500.0</td>\n",
       "      <td>24</td>\n",
       "      <td>30</td>\n",
       "      <td>13950.0</td>\n",
       "      <td>0</td>\n",
       "      <td>0</td>\n",
       "      <td>0</td>\n",
       "      <td>1</td>\n",
       "      <td>0</td>\n",
       "    </tr>\n",
       "    <tr>\n",
       "      <th>4</th>\n",
       "      <td>2</td>\n",
       "      <td>164.0</td>\n",
       "      <td>audi</td>\n",
       "      <td>gas</td>\n",
       "      <td>std</td>\n",
       "      <td>four</td>\n",
       "      <td>4wd</td>\n",
       "      <td>front</td>\n",
       "      <td>99.4</td>\n",
       "      <td>176.6</td>\n",
       "      <td>...</td>\n",
       "      <td>115.0</td>\n",
       "      <td>5500.0</td>\n",
       "      <td>18</td>\n",
       "      <td>22</td>\n",
       "      <td>17450.0</td>\n",
       "      <td>0</td>\n",
       "      <td>0</td>\n",
       "      <td>0</td>\n",
       "      <td>1</td>\n",
       "      <td>0</td>\n",
       "    </tr>\n",
       "  </tbody>\n",
       "</table>\n",
       "<p>5 rows × 30 columns</p>\n",
       "</div>"
      ],
      "text/plain": [
       "   symboling  normalized-losses         make fuel-type aspiration  \\\n",
       "0          3              115.0  alfa-romero       gas        std   \n",
       "1          3              115.0  alfa-romero       gas        std   \n",
       "2          1              115.0  alfa-romero       gas        std   \n",
       "3          2              164.0         audi       gas        std   \n",
       "4          2              164.0         audi       gas        std   \n",
       "\n",
       "  num-of-doors drive-wheels engine-location  wheel-base  length  ...  \\\n",
       "0          two          rwd           front        88.6   168.8  ...   \n",
       "1          two          rwd           front        88.6   168.8  ...   \n",
       "2          two          rwd           front        94.5   171.2  ...   \n",
       "3         four          fwd           front        99.8   176.6  ...   \n",
       "4         four          4wd           front        99.4   176.6  ...   \n",
       "\n",
       "   horsepower  peak-rpm  city-mpg highway-mpg    price  \\\n",
       "0       111.0    5000.0        21          27  13495.0   \n",
       "1       111.0    5000.0        21          27  16500.0   \n",
       "2       154.0    5000.0        19          26  16500.0   \n",
       "3       102.0    5500.0        24          30  13950.0   \n",
       "4       115.0    5500.0        18          22  17450.0   \n",
       "\n",
       "   body-style_convertible body-style_hardtop  body-style_hatchback  \\\n",
       "0                       1                  0                     0   \n",
       "1                       1                  0                     0   \n",
       "2                       0                  0                     1   \n",
       "3                       0                  0                     0   \n",
       "4                       0                  0                     0   \n",
       "\n",
       "   body-style_sedan  body-style_wagon  \n",
       "0                 0                 0  \n",
       "1                 0                 0  \n",
       "2                 0                 0  \n",
       "3                 1                 0  \n",
       "4                 1                 0  \n",
       "\n",
       "[5 rows x 30 columns]"
      ]
     },
     "execution_count": 2,
     "metadata": {},
     "output_type": "execute_result"
    }
   ],
   "source": [
    "auto = pd.read_csv('data/06-automobile.csv')\n",
    "auto.head()"
   ]
  },
  {
   "cell_type": "markdown",
   "id": "d9493ec5",
   "metadata": {},
   "source": [
    "## Calculating the MSE and R^2 statistic"
   ]
  },
  {
   "cell_type": "code",
   "execution_count": 3,
   "id": "ae235655",
   "metadata": {},
   "outputs": [
    {
     "data": {
      "text/plain": [
       "LinearRegression()"
      ]
     },
     "execution_count": 3,
     "metadata": {},
     "output_type": "execute_result"
    }
   ],
   "source": [
    "regr = linear_model.LinearRegression()\n",
    "regr.fit(auto[['engine-size']], auto['price'])"
   ]
  },
  {
   "cell_type": "code",
   "execution_count": 4,
   "id": "87505fd6",
   "metadata": {},
   "outputs": [],
   "source": [
    "predictions = regr.predict(auto[['engine-size']])\n",
    "differences = [(x-y)**2 for (x,y) in zip(predictions, auto['price'])]"
   ]
  },
  {
   "cell_type": "code",
   "execution_count": 5,
   "id": "8218e9dd",
   "metadata": {},
   "outputs": [
    {
     "name": "stdout",
     "output_type": "stream",
     "text": [
      "MSE = 16050493.31\n"
     ]
    }
   ],
   "source": [
    "MSE = sum(differences) / len(differences)\n",
    "print(\"MSE = %3.2f\" % (MSE))"
   ]
  },
  {
   "cell_type": "code",
   "execution_count": 6,
   "id": "a360e90c",
   "metadata": {},
   "outputs": [
    {
     "name": "stdout",
     "output_type": "stream",
     "text": [
      "R2 = 0.74\n"
     ]
    }
   ],
   "source": [
    "FVU = MSE / np.var(auto['price']) # Fraction of variance unexplained\n",
    "R2 = 1 - FVU\n",
    "print(\"R2 = %3.2f\" % (R2))"
   ]
  },
  {
   "cell_type": "markdown",
   "id": "5c3ce2fa",
   "metadata": {},
   "source": [
    "## Classifier evaluation"
   ]
  },
  {
   "cell_type": "code",
   "execution_count": 7,
   "id": "7e42e22f",
   "metadata": {},
   "outputs": [
    {
     "data": {
      "text/plain": [
       "LogisticRegression()"
      ]
     },
     "execution_count": 7,
     "metadata": {},
     "output_type": "execute_result"
    }
   ],
   "source": [
    "y_class = [(ft=='gas') for ft in auto['fuel-type']]\n",
    "regr = linear_model.LogisticRegression()\n",
    "regr.fit(auto[['engine-size']], y_class) "
   ]
  },
  {
   "cell_type": "code",
   "execution_count": 8,
   "id": "e69f6601",
   "metadata": {},
   "outputs": [],
   "source": [
    "predictions = regr.predict(auto[['engine-size']])\n",
    "correct = predictions == y_class"
   ]
  },
  {
   "cell_type": "code",
   "execution_count": 9,
   "id": "07803df7",
   "metadata": {},
   "outputs": [
    {
     "name": "stdout",
     "output_type": "stream",
     "text": [
      "accuracy = 0.90\n"
     ]
    }
   ],
   "source": [
    "# Calculate the accuracy\n",
    "accuracy = sum(correct) / len(correct)\n",
    "print(\"accuracy = %3.2f\" % (accuracy))"
   ]
  },
  {
   "cell_type": "code",
   "execution_count": 10,
   "id": "b9bacfc4",
   "metadata": {},
   "outputs": [
    {
     "name": "stdout",
     "output_type": "stream",
     "text": [
      "TP = 185.00\n",
      "FP = 20.00\n",
      "TN = 0.00\n",
      "FN = 0.00\n"
     ]
    }
   ],
   "source": [
    "# Calculate true positive, etc\n",
    "TP = sum([(p and l) for (p,l) in zip(predictions, y_class)])\n",
    "print(\"TP = %3.2f\" % (TP))\n",
    "\n",
    "FP = sum([(p and not l) for (p,l) in zip(predictions, y_class)])\n",
    "print(\"FP = %3.2f\" % (FP))\n",
    "\n",
    "TN = sum([(not p and not l) for (p,l) in zip(predictions, y_class)])\n",
    "print(\"TN = %3.2f\" % (TN))\n",
    "\n",
    "FN = sum([(not p and l) for (p,l) in zip(predictions, y_class)])\n",
    "print(\"FN = %3.2f\" % (FN))"
   ]
  },
  {
   "cell_type": "code",
   "execution_count": 11,
   "id": "d566d046",
   "metadata": {},
   "outputs": [
    {
     "name": "stdout",
     "output_type": "stream",
     "text": [
      "accuracy = 0.90\n"
     ]
    }
   ],
   "source": [
    "# Calculate the accuracy in another way\n",
    "acc2 = (TP + TN) / (TP + FP + TN + FN)\n",
    "print(\"accuracy = %3.2f\" % (acc2))"
   ]
  },
  {
   "cell_type": "code",
   "execution_count": 12,
   "id": "599414f8",
   "metadata": {},
   "outputs": [
    {
     "name": "stdout",
     "output_type": "stream",
     "text": [
      "precision = 0.90; recall = 1.00\n"
     ]
    }
   ],
   "source": [
    "precision = TP / (TP + FP)\n",
    "recall = TP / (TP + FN)\n",
    "print(\"precision = %3.2f; recall = %3.2f\" % (precision, recall))"
   ]
  },
  {
   "cell_type": "code",
   "execution_count": 13,
   "id": "35b85cf3",
   "metadata": {},
   "outputs": [
    {
     "name": "stdout",
     "output_type": "stream",
     "text": [
      "F1 = 0.95\n"
     ]
    }
   ],
   "source": [
    "F1 = 2 * (precision*recall) / (precision + recall)\n",
    "print(\"F1 = %3.2f\" % (F1))"
   ]
  },
  {
   "cell_type": "code",
   "execution_count": null,
   "id": "d74958f6",
   "metadata": {},
   "outputs": [],
   "source": []
  }
 ],
 "metadata": {
  "kernelspec": {
   "display_name": "Python 3 (ipykernel)",
   "language": "python",
   "name": "python3"
  },
  "language_info": {
   "codemirror_mode": {
    "name": "ipython",
    "version": 3
   },
   "file_extension": ".py",
   "mimetype": "text/x-python",
   "name": "python",
   "nbconvert_exporter": "python",
   "pygments_lexer": "ipython3",
   "version": "3.9.7"
  }
 },
 "nbformat": 4,
 "nbformat_minor": 5
}
