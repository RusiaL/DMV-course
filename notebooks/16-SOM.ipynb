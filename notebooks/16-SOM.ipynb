{
 "cells": [
  {
   "cell_type": "code",
   "execution_count": 12,
   "id": "0b87815d",
   "metadata": {},
   "outputs": [],
   "source": [
    "import numpy as np\n",
    "import pandas as pd\n",
    "\n",
    "from sklearn.preprocessing import StandardScaler\n",
    "from sklearn import preprocessing"
   ]
  },
  {
   "cell_type": "code",
   "execution_count": 17,
   "id": "48834f88",
   "metadata": {},
   "outputs": [
    {
     "data": {
      "text/html": [
       "<div>\n",
       "<style scoped>\n",
       "    .dataframe tbody tr th:only-of-type {\n",
       "        vertical-align: middle;\n",
       "    }\n",
       "\n",
       "    .dataframe tbody tr th {\n",
       "        vertical-align: top;\n",
       "    }\n",
       "\n",
       "    .dataframe thead th {\n",
       "        text-align: right;\n",
       "    }\n",
       "</style>\n",
       "<table border=\"1\" class=\"dataframe\">\n",
       "  <thead>\n",
       "    <tr style=\"text-align: right;\">\n",
       "      <th></th>\n",
       "      <th>Id</th>\n",
       "      <th>SepalLengthCm</th>\n",
       "      <th>SepalWidthCm</th>\n",
       "      <th>PetalLengthCm</th>\n",
       "      <th>PetalWidthCm</th>\n",
       "      <th>Species</th>\n",
       "    </tr>\n",
       "  </thead>\n",
       "  <tbody>\n",
       "    <tr>\n",
       "      <th>0</th>\n",
       "      <td>1</td>\n",
       "      <td>5.1</td>\n",
       "      <td>3.5</td>\n",
       "      <td>1.4</td>\n",
       "      <td>0.2</td>\n",
       "      <td>Iris-setosa</td>\n",
       "    </tr>\n",
       "    <tr>\n",
       "      <th>1</th>\n",
       "      <td>2</td>\n",
       "      <td>4.9</td>\n",
       "      <td>3.0</td>\n",
       "      <td>1.4</td>\n",
       "      <td>0.2</td>\n",
       "      <td>Iris-setosa</td>\n",
       "    </tr>\n",
       "    <tr>\n",
       "      <th>2</th>\n",
       "      <td>3</td>\n",
       "      <td>4.7</td>\n",
       "      <td>3.2</td>\n",
       "      <td>1.3</td>\n",
       "      <td>0.2</td>\n",
       "      <td>Iris-setosa</td>\n",
       "    </tr>\n",
       "    <tr>\n",
       "      <th>3</th>\n",
       "      <td>4</td>\n",
       "      <td>4.6</td>\n",
       "      <td>3.1</td>\n",
       "      <td>1.5</td>\n",
       "      <td>0.2</td>\n",
       "      <td>Iris-setosa</td>\n",
       "    </tr>\n",
       "    <tr>\n",
       "      <th>4</th>\n",
       "      <td>5</td>\n",
       "      <td>5.0</td>\n",
       "      <td>3.6</td>\n",
       "      <td>1.4</td>\n",
       "      <td>0.2</td>\n",
       "      <td>Iris-setosa</td>\n",
       "    </tr>\n",
       "  </tbody>\n",
       "</table>\n",
       "</div>"
      ],
      "text/plain": [
       "   Id  SepalLengthCm  SepalWidthCm  PetalLengthCm  PetalWidthCm      Species\n",
       "0   1            5.1           3.5            1.4           0.2  Iris-setosa\n",
       "1   2            4.9           3.0            1.4           0.2  Iris-setosa\n",
       "2   3            4.7           3.2            1.3           0.2  Iris-setosa\n",
       "3   4            4.6           3.1            1.5           0.2  Iris-setosa\n",
       "4   5            5.0           3.6            1.4           0.2  Iris-setosa"
      ]
     },
     "execution_count": 17,
     "metadata": {},
     "output_type": "execute_result"
    }
   ],
   "source": [
    "ds = pd.read_csv(\"data/11-iris.csv\") \n",
    "ds.head()"
   ]
  },
  {
   "cell_type": "code",
   "execution_count": 20,
   "id": "0b76247c",
   "metadata": {},
   "outputs": [],
   "source": [
    "# Normalization\n",
    "\n",
    "list_sl = []\n",
    "list_sw = []\n",
    "list_pl = []\n",
    "list_pw = []\n",
    "\n",
    "for sl in ds['SepalLengthCm']:\n",
    "    sl = (sl-min(ds['SepalLengthCm']))/(max(ds['SepalLengthCm'])-min(ds['SepalLengthCm']))\n",
    "    list_sl.append(sl)\n",
    "\n",
    "for sw in ds['SepalWidthCm']:\n",
    "    sw = (sw-min(ds['SepalWidthCm']))/(max(ds['SepalWidthCm'])-min(ds['SepalWidthCm']))\n",
    "    list_sw.append(sw)  \n",
    "    \n",
    "for pl in ds['PetalLengthCm']:\n",
    "    pl = (pl-min(ds['PetalLengthCm']))/(max(ds['PetalLengthCm'])-min(ds['PetalLengthCm']))\n",
    "    list_pl.append(pl)\n",
    "    \n",
    "for pw in ds['PetalWidthCm']:\n",
    "    pw = (pw-min(ds['PetalWidthCm']))/(max(ds['PetalWidthCm'])-min(ds['PetalWidthCm']))\n",
    "    list_pw.append(pw) \n",
    "\n",
    "X = np.array(list(zip(list_sl,list_sw, list_pl, list_pw)) )"
   ]
  },
  {
   "cell_type": "code",
   "execution_count": 22,
   "id": "b35210e2",
   "metadata": {},
   "outputs": [],
   "source": [
    "nc = 3         # number of classes\n",
    "W = []         # list for w vectors\n",
    "M = len(X)     # number of x vectors\n",
    "N = len(X[0])  # dimensionality of x vectors"
   ]
  },
  {
   "cell_type": "code",
   "execution_count": 23,
   "id": "91417dca",
   "metadata": {},
   "outputs": [],
   "source": [
    "# Function for obtaining random values for the x vectors (or weights)\n",
    "def get_weights():\n",
    "    y = np.random.random() * (2.0 / np.sqrt(M))\n",
    "    return 0.5 - (1 / np.sqrt(M)) + y"
   ]
  },
  {
   "cell_type": "code",
   "execution_count": 24,
   "id": "a3b9845f",
   "metadata": {},
   "outputs": [],
   "source": [
    "for i in range(nc):\n",
    "    W.append(list())\n",
    "    for j in range(N):\n",
    "        W[i].append(get_weights() * 0.5)"
   ]
  },
  {
   "cell_type": "code",
   "execution_count": 25,
   "id": "b557d66e",
   "metadata": {},
   "outputs": [],
   "source": [
    "# Function for computing the Euclidian distance between our x and w vectors\n",
    "def distance(w, x):\n",
    "    r = 0\n",
    "    for i in range(len(w)):\n",
    "        r = r + (w[i] - x[i])*(w[i] - x[i])\n",
    "    \n",
    "    r = np.sqrt(r)\n",
    "    return r"
   ]
  },
  {
   "cell_type": "code",
   "execution_count": 26,
   "id": "800256c0",
   "metadata": {},
   "outputs": [],
   "source": [
    "# Function for finding the closest x vectors to the w vectors\n",
    "def Findclosest(W, x):\n",
    "    wm = W[0]\n",
    "    r = distance(wm, x)\n",
    "    \n",
    "    i = 0\n",
    "    i_n = i\n",
    "    \n",
    "    for w in W:\n",
    "        if distance(w, x) < r:\n",
    "            r = distance(w, x)\n",
    "            wm = w\n",
    "            i_n = i\n",
    "        i = i + 1\n",
    "    \n",
    "    return (wm, i_n)"
   ]
  },
  {
   "cell_type": "code",
   "execution_count": 27,
   "id": "88ce43d0",
   "metadata": {},
   "outputs": [],
   "source": [
    "la = 0.3    # λ coefficient\n",
    "dla = 0.05  # Δλ\n",
    "\n",
    "while la >= 0:\n",
    "    for k in range(10):\n",
    "        for x in X:\n",
    "            wm = Findclosest(W, x)[0]\n",
    "            for i in range(len(wm)):\n",
    "                wm[i] = wm[i] + la * (x[i] - wm[i]) \n",
    "\n",
    "    la = la - dla "
   ]
  },
  {
   "cell_type": "code",
   "execution_count": 30,
   "id": "51596037",
   "metadata": {},
   "outputs": [],
   "source": [
    "Data = list() \n",
    "\n",
    "for i in range(len(W)):\n",
    "    Data.append(list())\n",
    "\n",
    "dfList = ds['Species'] "
   ]
  },
  {
   "cell_type": "code",
   "execution_count": 31,
   "id": "f3a32e1f",
   "metadata": {},
   "outputs": [
    {
     "name": "stdout",
     "output_type": "stream",
     "text": [
      "[[2, 'Iris-setosa'], [2, 'Iris-setosa'], [2, 'Iris-setosa'], [2, 'Iris-setosa'], [2, 'Iris-setosa'], [2, 'Iris-setosa'], [2, 'Iris-setosa'], [2, 'Iris-setosa'], [2, 'Iris-setosa'], [2, 'Iris-setosa'], [2, 'Iris-setosa'], [2, 'Iris-setosa'], [2, 'Iris-setosa'], [2, 'Iris-setosa'], [2, 'Iris-setosa'], [2, 'Iris-setosa'], [2, 'Iris-setosa'], [2, 'Iris-setosa'], [2, 'Iris-setosa'], [2, 'Iris-setosa'], [2, 'Iris-setosa'], [2, 'Iris-setosa'], [2, 'Iris-setosa'], [2, 'Iris-setosa'], [2, 'Iris-setosa'], [2, 'Iris-setosa'], [2, 'Iris-setosa'], [2, 'Iris-setosa'], [2, 'Iris-setosa'], [2, 'Iris-setosa'], [2, 'Iris-setosa'], [2, 'Iris-setosa'], [2, 'Iris-setosa'], [2, 'Iris-setosa'], [2, 'Iris-setosa'], [2, 'Iris-setosa'], [2, 'Iris-setosa'], [2, 'Iris-setosa'], [2, 'Iris-setosa'], [2, 'Iris-setosa'], [2, 'Iris-setosa'], [2, 'Iris-setosa'], [2, 'Iris-setosa'], [2, 'Iris-setosa'], [2, 'Iris-setosa'], [2, 'Iris-setosa'], [2, 'Iris-setosa'], [2, 'Iris-setosa'], [2, 'Iris-setosa'], [2, 'Iris-setosa'], [1, 'Iris-versicolor'], [0, 'Iris-versicolor'], [1, 'Iris-versicolor'], [0, 'Iris-versicolor'], [0, 'Iris-versicolor'], [0, 'Iris-versicolor'], [0, 'Iris-versicolor'], [0, 'Iris-versicolor'], [0, 'Iris-versicolor'], [0, 'Iris-versicolor'], [0, 'Iris-versicolor'], [0, 'Iris-versicolor'], [0, 'Iris-versicolor'], [0, 'Iris-versicolor'], [0, 'Iris-versicolor'], [0, 'Iris-versicolor'], [0, 'Iris-versicolor'], [0, 'Iris-versicolor'], [0, 'Iris-versicolor'], [0, 'Iris-versicolor'], [0, 'Iris-versicolor'], [0, 'Iris-versicolor'], [0, 'Iris-versicolor'], [0, 'Iris-versicolor'], [0, 'Iris-versicolor'], [0, 'Iris-versicolor'], [0, 'Iris-versicolor'], [1, 'Iris-versicolor'], [0, 'Iris-versicolor'], [0, 'Iris-versicolor'], [0, 'Iris-versicolor'], [0, 'Iris-versicolor'], [0, 'Iris-versicolor'], [0, 'Iris-versicolor'], [0, 'Iris-versicolor'], [0, 'Iris-versicolor'], [0, 'Iris-versicolor'], [0, 'Iris-versicolor'], [0, 'Iris-versicolor'], [0, 'Iris-versicolor'], [0, 'Iris-versicolor'], [0, 'Iris-versicolor'], [0, 'Iris-versicolor'], [0, 'Iris-versicolor'], [0, 'Iris-versicolor'], [0, 'Iris-versicolor'], [0, 'Iris-versicolor'], [0, 'Iris-versicolor'], [0, 'Iris-versicolor'], [0, 'Iris-versicolor'], [1, 'Iris-virginica'], [0, 'Iris-virginica'], [1, 'Iris-virginica'], [1, 'Iris-virginica'], [1, 'Iris-virginica'], [1, 'Iris-virginica'], [0, 'Iris-virginica'], [1, 'Iris-virginica'], [1, 'Iris-virginica'], [1, 'Iris-virginica'], [1, 'Iris-virginica'], [0, 'Iris-virginica'], [1, 'Iris-virginica'], [0, 'Iris-virginica'], [1, 'Iris-virginica'], [1, 'Iris-virginica'], [1, 'Iris-virginica'], [1, 'Iris-virginica'], [1, 'Iris-virginica'], [0, 'Iris-virginica'], [1, 'Iris-virginica'], [0, 'Iris-virginica'], [1, 'Iris-virginica'], [0, 'Iris-virginica'], [1, 'Iris-virginica'], [1, 'Iris-virginica'], [0, 'Iris-virginica'], [0, 'Iris-virginica'], [1, 'Iris-virginica'], [1, 'Iris-virginica'], [1, 'Iris-virginica'], [1, 'Iris-virginica'], [1, 'Iris-virginica'], [0, 'Iris-virginica'], [0, 'Iris-virginica'], [1, 'Iris-virginica'], [1, 'Iris-virginica'], [1, 'Iris-virginica'], [0, 'Iris-virginica'], [1, 'Iris-virginica'], [1, 'Iris-virginica'], [1, 'Iris-virginica'], [0, 'Iris-virginica'], [1, 'Iris-virginica'], [1, 'Iris-virginica'], [1, 'Iris-virginica'], [0, 'Iris-virginica'], [1, 'Iris-virginica'], [1, 'Iris-virginica'], [0, 'Iris-virginica']]\n"
     ]
    }
   ],
   "source": [
    "DS = list()\n",
    "i = 0\n",
    "for x in X:\n",
    "    i_n = Findclosest(W, x)[1]\n",
    "    Data[i_n].append(x)\n",
    "    DS.append([i_n, dfList[i]])\n",
    "    i = i + 1\n",
    "\n",
    "print (DS) "
   ]
  },
  {
   "cell_type": "code",
   "execution_count": null,
   "id": "ea74f758",
   "metadata": {},
   "outputs": [],
   "source": []
  }
 ],
 "metadata": {
  "kernelspec": {
   "display_name": "Python 3 (ipykernel)",
   "language": "python",
   "name": "python3"
  },
  "language_info": {
   "codemirror_mode": {
    "name": "ipython",
    "version": 3
   },
   "file_extension": ".py",
   "mimetype": "text/x-python",
   "name": "python",
   "nbconvert_exporter": "python",
   "pygments_lexer": "ipython3",
   "version": "3.9.7"
  }
 },
 "nbformat": 4,
 "nbformat_minor": 5
}
