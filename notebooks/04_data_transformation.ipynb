{
 "cells": [
  {
   "cell_type": "markdown",
   "id": "8f72a231",
   "metadata": {},
   "source": [
    "# Importing libraries"
   ]
  },
  {
   "cell_type": "code",
   "execution_count": 1,
   "id": "0761071d",
   "metadata": {},
   "outputs": [],
   "source": [
    "import pandas as pd\n",
    "import numpy as np"
   ]
  },
  {
   "cell_type": "markdown",
   "id": "a299c92d",
   "metadata": {},
   "source": [
    "# Importing the datasets"
   ]
  },
  {
   "cell_type": "code",
   "execution_count": 2,
   "id": "8942933c",
   "metadata": {},
   "outputs": [
    {
     "name": "stdout",
     "output_type": "stream",
     "text": [
      "  Team member  Territory  Month  Calls\n",
      "0       Jorge          3      1    107\n",
      "1       Jorge          3      2     88\n",
      "2       Jorge          3      3     84\n",
      "3       Jorge          3      4    113\n",
      "4         Ana          1      1     91\n",
      "5         Ana          1      2    129\n",
      "6         Ana          1      3     96\n",
      "7         Ana          1      4    128\n",
      "8         Ali          2      1    120\n",
      "9         Ali          2      2     85\n",
      "   Territory  Month  Amount\n",
      "0          1      1   54228\n",
      "1          1      2   61640\n",
      "2          1      3   43491\n",
      "3          1      4   52173\n",
      "4          2      1   36061\n",
      "5          2      2   44957\n",
      "6          2      3   35058\n",
      "7          2      4   33855\n",
      "8          3      1   50876\n",
      "9          3      2   57682\n"
     ]
    }
   ],
   "source": [
    "calls = pd.read_csv(\"data/04-sales_calls.csv\")\n",
    "print(calls)\n",
    "\n",
    "revenue = pd.read_csv(\"data/04-sales_revenue.csv\")\n",
    "print(revenue)"
   ]
  },
  {
   "cell_type": "markdown",
   "id": "36661733",
   "metadata": {},
   "source": [
    "# Appending dataframes"
   ]
  },
  {
   "cell_type": "code",
   "execution_count": 3,
   "id": "c266afd0",
   "metadata": {},
   "outputs": [
    {
     "name": "stdout",
     "output_type": "stream",
     "text": [
      "  Team member  Territory  Month  Calls   Amount\n",
      "0       Jorge          3      1  107.0      NaN\n",
      "1       Jorge          3      2   88.0      NaN\n",
      "2       Jorge          3      3   84.0      NaN\n",
      "3       Jorge          3      4  113.0      NaN\n",
      "4         Ana          1      1   91.0      NaN\n",
      "5         Ana          1      2  129.0      NaN\n",
      "6         Ana          1      3   96.0      NaN\n",
      "7         Ana          1      4  128.0      NaN\n",
      "8         Ali          2      1  120.0      NaN\n",
      "9         Ali          2      2   85.0      NaN\n",
      "0         NaN          1      1    NaN  54228.0\n",
      "1         NaN          1      2    NaN  61640.0\n",
      "2         NaN          1      3    NaN  43491.0\n",
      "3         NaN          1      4    NaN  52173.0\n",
      "4         NaN          2      1    NaN  36061.0\n",
      "5         NaN          2      2    NaN  44957.0\n",
      "6         NaN          2      3    NaN  35058.0\n",
      "7         NaN          2      4    NaN  33855.0\n",
      "8         NaN          3      1    NaN  50876.0\n",
      "9         NaN          3      2    NaN  57682.0\n"
     ]
    }
   ],
   "source": [
    "print(pd.concat([calls, revenue]))"
   ]
  },
  {
   "cell_type": "markdown",
   "id": "2a8a10bf",
   "metadata": {},
   "source": [
    "# Merging dataframes"
   ]
  },
  {
   "cell_type": "code",
   "execution_count": 4,
   "id": "a7b0556e",
   "metadata": {},
   "outputs": [
    {
     "name": "stdout",
     "output_type": "stream",
     "text": [
      "  Team member  Territory  Month  Calls  Amount\n",
      "0       Jorge          3      1    107   50876\n",
      "1       Jorge          3      2     88   57682\n",
      "2         Ana          1      1     91   54228\n",
      "3         Ana          1      2    129   61640\n",
      "4         Ana          1      3     96   43491\n",
      "5         Ana          1      4    128   52173\n",
      "6         Ali          2      1    120   36061\n",
      "7         Ali          2      2     85   44957\n"
     ]
    }
   ],
   "source": [
    "calls_revenue = pd.merge(calls, revenue, on=['Territory', 'Month'])\n",
    "print(calls_revenue)"
   ]
  },
  {
   "cell_type": "code",
   "execution_count": 5,
   "id": "a4a0e942",
   "metadata": {},
   "outputs": [
    {
     "data": {
      "text/html": [
       "<div>\n",
       "<style scoped>\n",
       "    .dataframe tbody tr th:only-of-type {\n",
       "        vertical-align: middle;\n",
       "    }\n",
       "\n",
       "    .dataframe tbody tr th {\n",
       "        vertical-align: top;\n",
       "    }\n",
       "\n",
       "    .dataframe thead th {\n",
       "        text-align: right;\n",
       "    }\n",
       "</style>\n",
       "<table border=\"1\" class=\"dataframe\">\n",
       "  <thead>\n",
       "    <tr style=\"text-align: right;\">\n",
       "      <th></th>\n",
       "      <th>Team member</th>\n",
       "      <th>Territory</th>\n",
       "      <th>Month</th>\n",
       "      <th>Calls</th>\n",
       "      <th>Amount</th>\n",
       "    </tr>\n",
       "  </thead>\n",
       "  <tbody>\n",
       "    <tr>\n",
       "      <th>0</th>\n",
       "      <td>Jorge</td>\n",
       "      <td>3</td>\n",
       "      <td>1</td>\n",
       "      <td>107</td>\n",
       "      <td>50876</td>\n",
       "    </tr>\n",
       "    <tr>\n",
       "      <th>1</th>\n",
       "      <td>Jorge</td>\n",
       "      <td>3</td>\n",
       "      <td>2</td>\n",
       "      <td>88</td>\n",
       "      <td>57682</td>\n",
       "    </tr>\n",
       "    <tr>\n",
       "      <th>2</th>\n",
       "      <td>Ana</td>\n",
       "      <td>1</td>\n",
       "      <td>1</td>\n",
       "      <td>91</td>\n",
       "      <td>54228</td>\n",
       "    </tr>\n",
       "    <tr>\n",
       "      <th>3</th>\n",
       "      <td>Ana</td>\n",
       "      <td>1</td>\n",
       "      <td>2</td>\n",
       "      <td>129</td>\n",
       "      <td>61640</td>\n",
       "    </tr>\n",
       "    <tr>\n",
       "      <th>4</th>\n",
       "      <td>Ana</td>\n",
       "      <td>1</td>\n",
       "      <td>3</td>\n",
       "      <td>96</td>\n",
       "      <td>43491</td>\n",
       "    </tr>\n",
       "    <tr>\n",
       "      <th>5</th>\n",
       "      <td>Ana</td>\n",
       "      <td>1</td>\n",
       "      <td>4</td>\n",
       "      <td>128</td>\n",
       "      <td>52173</td>\n",
       "    </tr>\n",
       "    <tr>\n",
       "      <th>6</th>\n",
       "      <td>Ali</td>\n",
       "      <td>2</td>\n",
       "      <td>1</td>\n",
       "      <td>120</td>\n",
       "      <td>36061</td>\n",
       "    </tr>\n",
       "    <tr>\n",
       "      <th>7</th>\n",
       "      <td>Ali</td>\n",
       "      <td>2</td>\n",
       "      <td>2</td>\n",
       "      <td>85</td>\n",
       "      <td>44957</td>\n",
       "    </tr>\n",
       "  </tbody>\n",
       "</table>\n",
       "</div>"
      ],
      "text/plain": [
       "  Team member  Territory  Month  Calls  Amount\n",
       "0       Jorge          3      1    107   50876\n",
       "1       Jorge          3      2     88   57682\n",
       "2         Ana          1      1     91   54228\n",
       "3         Ana          1      2    129   61640\n",
       "4         Ana          1      3     96   43491\n",
       "5         Ana          1      4    128   52173\n",
       "6         Ali          2      1    120   36061\n",
       "7         Ali          2      2     85   44957"
      ]
     },
     "execution_count": 5,
     "metadata": {},
     "output_type": "execute_result"
    }
   ],
   "source": [
    "pd.merge(calls, revenue) # merging by default with 'iner'"
   ]
  },
  {
   "cell_type": "code",
   "execution_count": 6,
   "id": "60cfbd6d",
   "metadata": {},
   "outputs": [
    {
     "data": {
      "text/html": [
       "<div>\n",
       "<style scoped>\n",
       "    .dataframe tbody tr th:only-of-type {\n",
       "        vertical-align: middle;\n",
       "    }\n",
       "\n",
       "    .dataframe tbody tr th {\n",
       "        vertical-align: top;\n",
       "    }\n",
       "\n",
       "    .dataframe thead th {\n",
       "        text-align: right;\n",
       "    }\n",
       "</style>\n",
       "<table border=\"1\" class=\"dataframe\">\n",
       "  <thead>\n",
       "    <tr style=\"text-align: right;\">\n",
       "      <th></th>\n",
       "      <th>Team member</th>\n",
       "      <th>Territory</th>\n",
       "      <th>Month</th>\n",
       "      <th>Calls</th>\n",
       "      <th>Amount</th>\n",
       "    </tr>\n",
       "  </thead>\n",
       "  <tbody>\n",
       "    <tr>\n",
       "      <th>0</th>\n",
       "      <td>Jorge</td>\n",
       "      <td>3</td>\n",
       "      <td>1</td>\n",
       "      <td>107.0</td>\n",
       "      <td>50876.0</td>\n",
       "    </tr>\n",
       "    <tr>\n",
       "      <th>1</th>\n",
       "      <td>Jorge</td>\n",
       "      <td>3</td>\n",
       "      <td>2</td>\n",
       "      <td>88.0</td>\n",
       "      <td>57682.0</td>\n",
       "    </tr>\n",
       "    <tr>\n",
       "      <th>2</th>\n",
       "      <td>Jorge</td>\n",
       "      <td>3</td>\n",
       "      <td>3</td>\n",
       "      <td>84.0</td>\n",
       "      <td>NaN</td>\n",
       "    </tr>\n",
       "    <tr>\n",
       "      <th>3</th>\n",
       "      <td>Jorge</td>\n",
       "      <td>3</td>\n",
       "      <td>4</td>\n",
       "      <td>113.0</td>\n",
       "      <td>NaN</td>\n",
       "    </tr>\n",
       "    <tr>\n",
       "      <th>4</th>\n",
       "      <td>Ana</td>\n",
       "      <td>1</td>\n",
       "      <td>1</td>\n",
       "      <td>91.0</td>\n",
       "      <td>54228.0</td>\n",
       "    </tr>\n",
       "    <tr>\n",
       "      <th>5</th>\n",
       "      <td>Ana</td>\n",
       "      <td>1</td>\n",
       "      <td>2</td>\n",
       "      <td>129.0</td>\n",
       "      <td>61640.0</td>\n",
       "    </tr>\n",
       "    <tr>\n",
       "      <th>6</th>\n",
       "      <td>Ana</td>\n",
       "      <td>1</td>\n",
       "      <td>3</td>\n",
       "      <td>96.0</td>\n",
       "      <td>43491.0</td>\n",
       "    </tr>\n",
       "    <tr>\n",
       "      <th>7</th>\n",
       "      <td>Ana</td>\n",
       "      <td>1</td>\n",
       "      <td>4</td>\n",
       "      <td>128.0</td>\n",
       "      <td>52173.0</td>\n",
       "    </tr>\n",
       "    <tr>\n",
       "      <th>8</th>\n",
       "      <td>Ali</td>\n",
       "      <td>2</td>\n",
       "      <td>1</td>\n",
       "      <td>120.0</td>\n",
       "      <td>36061.0</td>\n",
       "    </tr>\n",
       "    <tr>\n",
       "      <th>9</th>\n",
       "      <td>Ali</td>\n",
       "      <td>2</td>\n",
       "      <td>2</td>\n",
       "      <td>85.0</td>\n",
       "      <td>44957.0</td>\n",
       "    </tr>\n",
       "    <tr>\n",
       "      <th>10</th>\n",
       "      <td>NaN</td>\n",
       "      <td>2</td>\n",
       "      <td>3</td>\n",
       "      <td>NaN</td>\n",
       "      <td>35058.0</td>\n",
       "    </tr>\n",
       "    <tr>\n",
       "      <th>11</th>\n",
       "      <td>NaN</td>\n",
       "      <td>2</td>\n",
       "      <td>4</td>\n",
       "      <td>NaN</td>\n",
       "      <td>33855.0</td>\n",
       "    </tr>\n",
       "  </tbody>\n",
       "</table>\n",
       "</div>"
      ],
      "text/plain": [
       "   Team member  Territory  Month  Calls   Amount\n",
       "0        Jorge          3      1  107.0  50876.0\n",
       "1        Jorge          3      2   88.0  57682.0\n",
       "2        Jorge          3      3   84.0      NaN\n",
       "3        Jorge          3      4  113.0      NaN\n",
       "4          Ana          1      1   91.0  54228.0\n",
       "5          Ana          1      2  129.0  61640.0\n",
       "6          Ana          1      3   96.0  43491.0\n",
       "7          Ana          1      4  128.0  52173.0\n",
       "8          Ali          2      1  120.0  36061.0\n",
       "9          Ali          2      2   85.0  44957.0\n",
       "10         NaN          2      3    NaN  35058.0\n",
       "11         NaN          2      4    NaN  33855.0"
      ]
     },
     "execution_count": 6,
     "metadata": {},
     "output_type": "execute_result"
    }
   ],
   "source": [
    "pd.merge(calls, revenue, how='outer') # merging with 'outer'"
   ]
  },
  {
   "cell_type": "markdown",
   "id": "a6d405bb",
   "metadata": {},
   "source": [
    "# Other transformation"
   ]
  },
  {
   "cell_type": "code",
   "execution_count": 7,
   "id": "d878ff59",
   "metadata": {},
   "outputs": [
    {
     "name": "stdout",
     "output_type": "stream",
     "text": [
      "  Team member  Territory  Month  Calls  Amount\n",
      "0       Jorge          3      1    107   50876\n",
      "1       Jorge          3      2     88   57682\n"
     ]
    }
   ],
   "source": [
    "# Selecting data\n",
    "\n",
    "print(calls_revenue[calls_revenue.Territory==3])"
   ]
  },
  {
   "cell_type": "code",
   "execution_count": 8,
   "id": "fca81c05",
   "metadata": {},
   "outputs": [
    {
     "name": "stdout",
     "output_type": "stream",
     "text": [
      "  Team member  Territory  Month  Calls  Amount\n",
      "1       Jorge          3      2     88   57682\n",
      "2         Ana          1      1     91   54228\n",
      "7         Ali          2      2     85   44957\n"
     ]
    }
   ],
   "source": [
    "# Selecting data with calculated condition\n",
    "\n",
    "print(calls_revenue[calls_revenue.Amount/calls_revenue.Calls>500])"
   ]
  },
  {
   "cell_type": "code",
   "execution_count": 9,
   "id": "a6573e9d",
   "metadata": {},
   "outputs": [
    {
     "name": "stdout",
     "output_type": "stream",
     "text": [
      "  Team member  Territory  Month  Calls  Amount  Call_Amount\n",
      "0       Jorge          3      1    107   50876   475.476636\n",
      "1       Jorge          3      2     88   57682   655.477273\n",
      "2         Ana          1      1     91   54228   595.912088\n",
      "3         Ana          1      2    129   61640   477.829457\n",
      "4         Ana          1      3     96   43491   453.031250\n",
      "5         Ana          1      4    128   52173   407.601562\n",
      "6         Ali          2      1    120   36061   300.508333\n",
      "7         Ali          2      2     85   44957   528.905882\n"
     ]
    }
   ],
   "source": [
    "# New calculated columns for dataframe\n",
    "\n",
    "calls_revenue['Call_Amount'] = calls_revenue.Amount/calls_revenue.Calls\n",
    "print(calls_revenue)"
   ]
  },
  {
   "cell_type": "code",
   "execution_count": 10,
   "id": "c9a50e7d",
   "metadata": {},
   "outputs": [
    {
     "name": "stdout",
     "output_type": "stream",
     "text": [
      "476.6530464391799\n",
      "  Team member  Territory  Month  Calls  Amount  Call_Amount\n",
      "1       Jorge          3      2     88   57682   655.477273\n",
      "2         Ana          1      1     91   54228   595.912088\n",
      "3         Ana          1      2    129   61640   477.829457\n",
      "7         Ali          2      2     85   44957   528.905882\n"
     ]
    }
   ],
   "source": [
    "# Getting all of the rows in which the amount per call is above the median\n",
    "# (combining data)\n",
    "    \n",
    "print(calls_revenue.Call_Amount.median())\n",
    "print(calls_revenue[calls_revenue.Call_Amount >= calls_revenue.Call_Amount.median()])"
   ]
  },
  {
   "cell_type": "markdown",
   "id": "e9ef6cad",
   "metadata": {},
   "source": [
    "## Aggregation with GroupBy"
   ]
  },
  {
   "cell_type": "code",
   "execution_count": 11,
   "id": "97dcc79f",
   "metadata": {},
   "outputs": [
    {
     "data": {
      "text/plain": [
       "<pandas.core.groupby.generic.DataFrameGroupBy object at 0x0000014F2CA32580>"
      ]
     },
     "execution_count": 11,
     "metadata": {},
     "output_type": "execute_result"
    }
   ],
   "source": [
    "calls_revenue.groupby('Team member')"
   ]
  },
  {
   "cell_type": "code",
   "execution_count": 12,
   "id": "2bb35114",
   "metadata": {},
   "outputs": [
    {
     "data": {
      "text/plain": [
       "Team member\n",
       "Ali      102.5\n",
       "Ana      112.0\n",
       "Jorge     97.5\n",
       "Name: Calls, dtype: float64"
      ]
     },
     "execution_count": 12,
     "metadata": {},
     "output_type": "execute_result"
    }
   ],
   "source": [
    "calls_revenue.groupby('Team member')['Calls'].median()"
   ]
  },
  {
   "cell_type": "code",
   "execution_count": 13,
   "id": "08fe2ef9",
   "metadata": {},
   "outputs": [
    {
     "name": "stdout",
     "output_type": "stream",
     "text": [
      "       Calls  Amount\n",
      "Month               \n",
      "1        318  141165\n",
      "2        302  164279\n",
      "3         96   43491\n",
      "4        128   52173\n",
      "           Calls  Amount\n",
      "Territory               \n",
      "1            444  211532\n",
      "2            205   81018\n",
      "3            195  108558\n"
     ]
    }
   ],
   "source": [
    "# The total calls and amounts by month...\n",
    "print(calls_revenue[['Month', 'Calls', 'Amount']].groupby(['Month']).sum())\n",
    "\n",
    "# ... and by territory\n",
    "print(calls_revenue[['Territory', 'Calls', 'Amount']].groupby(['Territory']).sum())"
   ]
  },
  {
   "cell_type": "code",
   "execution_count": 14,
   "id": "87c59ff5",
   "metadata": {},
   "outputs": [
    {
     "name": "stdout",
     "output_type": "stream",
     "text": [
      "Ali      shape=(2, 6)\n",
      "  Team member  Territory  Month  Calls  Amount  Call_Amount\n",
      "6         Ali          2      1    120   36061   300.508333\n",
      "7         Ali          2      2     85   44957   528.905882\n",
      "Ana      shape=(4, 6)\n",
      "  Team member  Territory  Month  Calls  Amount  Call_Amount\n",
      "2         Ana          1      1     91   54228   595.912088\n",
      "3         Ana          1      2    129   61640   477.829457\n",
      "4         Ana          1      3     96   43491   453.031250\n",
      "5         Ana          1      4    128   52173   407.601562\n",
      "Jorge    shape=(2, 6)\n",
      "  Team member  Territory  Month  Calls  Amount  Call_Amount\n",
      "0       Jorge          3      1    107   50876   475.476636\n",
      "1       Jorge          3      2     88   57682   655.477273\n"
     ]
    }
   ],
   "source": [
    "# Iteration over groups\n",
    "\n",
    "for (member, group) in calls_revenue.groupby('Team member'):\n",
    "    print(\"{0:8s} shape={1}\".format(member, group.shape))\n",
    "    print(group)"
   ]
  },
  {
   "cell_type": "code",
   "execution_count": 15,
   "id": "6f3bd863",
   "metadata": {},
   "outputs": [
    {
     "data": {
      "text/html": [
       "<div>\n",
       "<style scoped>\n",
       "    .dataframe tbody tr th:only-of-type {\n",
       "        vertical-align: middle;\n",
       "    }\n",
       "\n",
       "    .dataframe tbody tr th {\n",
       "        vertical-align: top;\n",
       "    }\n",
       "\n",
       "    .dataframe thead tr th {\n",
       "        text-align: left;\n",
       "    }\n",
       "\n",
       "    .dataframe thead tr:last-of-type th {\n",
       "        text-align: right;\n",
       "    }\n",
       "</style>\n",
       "<table border=\"1\" class=\"dataframe\">\n",
       "  <thead>\n",
       "    <tr>\n",
       "      <th></th>\n",
       "      <th colspan=\"3\" halign=\"left\">Territory</th>\n",
       "      <th colspan=\"3\" halign=\"left\">Month</th>\n",
       "      <th colspan=\"3\" halign=\"left\">Calls</th>\n",
       "      <th colspan=\"3\" halign=\"left\">Amount</th>\n",
       "      <th colspan=\"3\" halign=\"left\">Call_Amount</th>\n",
       "    </tr>\n",
       "    <tr>\n",
       "      <th></th>\n",
       "      <th>min</th>\n",
       "      <th>median</th>\n",
       "      <th>max</th>\n",
       "      <th>min</th>\n",
       "      <th>median</th>\n",
       "      <th>max</th>\n",
       "      <th>min</th>\n",
       "      <th>median</th>\n",
       "      <th>max</th>\n",
       "      <th>min</th>\n",
       "      <th>median</th>\n",
       "      <th>max</th>\n",
       "      <th>min</th>\n",
       "      <th>median</th>\n",
       "      <th>max</th>\n",
       "    </tr>\n",
       "    <tr>\n",
       "      <th>Team member</th>\n",
       "      <th></th>\n",
       "      <th></th>\n",
       "      <th></th>\n",
       "      <th></th>\n",
       "      <th></th>\n",
       "      <th></th>\n",
       "      <th></th>\n",
       "      <th></th>\n",
       "      <th></th>\n",
       "      <th></th>\n",
       "      <th></th>\n",
       "      <th></th>\n",
       "      <th></th>\n",
       "      <th></th>\n",
       "      <th></th>\n",
       "    </tr>\n",
       "  </thead>\n",
       "  <tbody>\n",
       "    <tr>\n",
       "      <th>Ali</th>\n",
       "      <td>2</td>\n",
       "      <td>2.0</td>\n",
       "      <td>2</td>\n",
       "      <td>1</td>\n",
       "      <td>1.5</td>\n",
       "      <td>2</td>\n",
       "      <td>85</td>\n",
       "      <td>102.5</td>\n",
       "      <td>120</td>\n",
       "      <td>36061</td>\n",
       "      <td>40509.0</td>\n",
       "      <td>44957</td>\n",
       "      <td>300.508333</td>\n",
       "      <td>414.707108</td>\n",
       "      <td>528.905882</td>\n",
       "    </tr>\n",
       "    <tr>\n",
       "      <th>Ana</th>\n",
       "      <td>1</td>\n",
       "      <td>1.0</td>\n",
       "      <td>1</td>\n",
       "      <td>1</td>\n",
       "      <td>2.5</td>\n",
       "      <td>4</td>\n",
       "      <td>91</td>\n",
       "      <td>112.0</td>\n",
       "      <td>129</td>\n",
       "      <td>43491</td>\n",
       "      <td>53200.5</td>\n",
       "      <td>61640</td>\n",
       "      <td>407.601562</td>\n",
       "      <td>465.430354</td>\n",
       "      <td>595.912088</td>\n",
       "    </tr>\n",
       "    <tr>\n",
       "      <th>Jorge</th>\n",
       "      <td>3</td>\n",
       "      <td>3.0</td>\n",
       "      <td>3</td>\n",
       "      <td>1</td>\n",
       "      <td>1.5</td>\n",
       "      <td>2</td>\n",
       "      <td>88</td>\n",
       "      <td>97.5</td>\n",
       "      <td>107</td>\n",
       "      <td>50876</td>\n",
       "      <td>54279.0</td>\n",
       "      <td>57682</td>\n",
       "      <td>475.476636</td>\n",
       "      <td>565.476954</td>\n",
       "      <td>655.477273</td>\n",
       "    </tr>\n",
       "  </tbody>\n",
       "</table>\n",
       "</div>"
      ],
      "text/plain": [
       "            Territory            Month            Calls             Amount  \\\n",
       "                  min median max   min median max   min median  max    min   \n",
       "Team member                                                                  \n",
       "Ali                 2    2.0   2     1    1.5   2    85  102.5  120  36061   \n",
       "Ana                 1    1.0   1     1    2.5   4    91  112.0  129  43491   \n",
       "Jorge               3    3.0   3     1    1.5   2    88   97.5  107  50876   \n",
       "\n",
       "                            Call_Amount                          \n",
       "              median    max         min      median         max  \n",
       "Team member                                                      \n",
       "Ali          40509.0  44957  300.508333  414.707108  528.905882  \n",
       "Ana          53200.5  61640  407.601562  465.430354  595.912088  \n",
       "Jorge        54279.0  57682  475.476636  565.476954  655.477273  "
      ]
     },
     "execution_count": 15,
     "metadata": {},
     "output_type": "execute_result"
    }
   ],
   "source": [
    "# Aggregation\n",
    "\n",
    "calls_revenue.groupby('Team member').aggregate([min, np.median, max])"
   ]
  },
  {
   "cell_type": "code",
   "execution_count": 16,
   "id": "876ec39c",
   "metadata": {},
   "outputs": [
    {
     "data": {
      "text/html": [
       "<div>\n",
       "<style scoped>\n",
       "    .dataframe tbody tr th:only-of-type {\n",
       "        vertical-align: middle;\n",
       "    }\n",
       "\n",
       "    .dataframe tbody tr th {\n",
       "        vertical-align: top;\n",
       "    }\n",
       "\n",
       "    .dataframe thead th {\n",
       "        text-align: right;\n",
       "    }\n",
       "</style>\n",
       "<table border=\"1\" class=\"dataframe\">\n",
       "  <thead>\n",
       "    <tr style=\"text-align: right;\">\n",
       "      <th></th>\n",
       "      <th>Territory</th>\n",
       "      <th>Month</th>\n",
       "      <th>Calls</th>\n",
       "      <th>Amount</th>\n",
       "      <th>Call_Amount</th>\n",
       "    </tr>\n",
       "  </thead>\n",
       "  <tbody>\n",
       "    <tr>\n",
       "      <th>0</th>\n",
       "      <td>0.0</td>\n",
       "      <td>-0.5</td>\n",
       "      <td>9.5</td>\n",
       "      <td>-3403.0</td>\n",
       "      <td>-90.000319</td>\n",
       "    </tr>\n",
       "    <tr>\n",
       "      <th>1</th>\n",
       "      <td>0.0</td>\n",
       "      <td>0.5</td>\n",
       "      <td>-9.5</td>\n",
       "      <td>3403.0</td>\n",
       "      <td>90.000319</td>\n",
       "    </tr>\n",
       "    <tr>\n",
       "      <th>2</th>\n",
       "      <td>0.0</td>\n",
       "      <td>-1.5</td>\n",
       "      <td>-20.0</td>\n",
       "      <td>1345.0</td>\n",
       "      <td>112.318498</td>\n",
       "    </tr>\n",
       "    <tr>\n",
       "      <th>3</th>\n",
       "      <td>0.0</td>\n",
       "      <td>-0.5</td>\n",
       "      <td>18.0</td>\n",
       "      <td>8757.0</td>\n",
       "      <td>-5.764132</td>\n",
       "    </tr>\n",
       "    <tr>\n",
       "      <th>4</th>\n",
       "      <td>0.0</td>\n",
       "      <td>0.5</td>\n",
       "      <td>-15.0</td>\n",
       "      <td>-9392.0</td>\n",
       "      <td>-30.562339</td>\n",
       "    </tr>\n",
       "    <tr>\n",
       "      <th>5</th>\n",
       "      <td>0.0</td>\n",
       "      <td>1.5</td>\n",
       "      <td>17.0</td>\n",
       "      <td>-710.0</td>\n",
       "      <td>-75.992027</td>\n",
       "    </tr>\n",
       "    <tr>\n",
       "      <th>6</th>\n",
       "      <td>0.0</td>\n",
       "      <td>-0.5</td>\n",
       "      <td>17.5</td>\n",
       "      <td>-4448.0</td>\n",
       "      <td>-114.198775</td>\n",
       "    </tr>\n",
       "    <tr>\n",
       "      <th>7</th>\n",
       "      <td>0.0</td>\n",
       "      <td>0.5</td>\n",
       "      <td>-17.5</td>\n",
       "      <td>4448.0</td>\n",
       "      <td>114.198775</td>\n",
       "    </tr>\n",
       "  </tbody>\n",
       "</table>\n",
       "</div>"
      ],
      "text/plain": [
       "   Territory  Month  Calls  Amount  Call_Amount\n",
       "0        0.0   -0.5    9.5 -3403.0   -90.000319\n",
       "1        0.0    0.5   -9.5  3403.0    90.000319\n",
       "2        0.0   -1.5  -20.0  1345.0   112.318498\n",
       "3        0.0   -0.5   18.0  8757.0    -5.764132\n",
       "4        0.0    0.5  -15.0 -9392.0   -30.562339\n",
       "5        0.0    1.5   17.0  -710.0   -75.992027\n",
       "6        0.0   -0.5   17.5 -4448.0  -114.198775\n",
       "7        0.0    0.5  -17.5  4448.0   114.198775"
      ]
     },
     "execution_count": 16,
     "metadata": {},
     "output_type": "execute_result"
    }
   ],
   "source": [
    "# Transformation\n",
    "\n",
    "calls_revenue.groupby('Team member').transform(lambda x: x - x.mean())"
   ]
  },
  {
   "cell_type": "markdown",
   "id": "40a36cc7",
   "metadata": {},
   "source": [
    "## One-Hot-Encoding"
   ]
  },
  {
   "cell_type": "code",
   "execution_count": 17,
   "id": "c98c672b",
   "metadata": {},
   "outputs": [
    {
     "name": "stdout",
     "output_type": "stream",
     "text": [
      "['Jorge' 'Ana' 'Ali']\n"
     ]
    }
   ],
   "source": [
    "# Checking for the labels in the categorical parameters\n",
    "\n",
    "print(calls_revenue['Team member'].unique())"
   ]
  },
  {
   "cell_type": "code",
   "execution_count": 18,
   "id": "44cdf161",
   "metadata": {},
   "outputs": [
    {
     "name": "stdout",
     "output_type": "stream",
     "text": [
      "Ana      4\n",
      "Jorge    2\n",
      "Ali      2\n",
      "Name: Team member, dtype: int64\n"
     ]
    }
   ],
   "source": [
    "# Checking for the label counts in the categorical parameters\n",
    "\n",
    "print(calls_revenue['Team member'].value_counts())"
   ]
  },
  {
   "cell_type": "code",
   "execution_count": 19,
   "id": "86a56a87",
   "metadata": {},
   "outputs": [
    {
     "name": "stdout",
     "output_type": "stream",
     "text": [
      "   Territory  Month  Calls  Amount  Call_Amount  Team member_Ali  \\\n",
      "0          3      1    107   50876   475.476636                0   \n",
      "1          3      2     88   57682   655.477273                0   \n",
      "2          1      1     91   54228   595.912088                0   \n",
      "3          1      2    129   61640   477.829457                0   \n",
      "4          1      3     96   43491   453.031250                0   \n",
      "5          1      4    128   52173   407.601562                0   \n",
      "6          2      1    120   36061   300.508333                1   \n",
      "7          2      2     85   44957   528.905882                1   \n",
      "\n",
      "   Team member_Ana  Team member_Jorge  \n",
      "0                0                  1  \n",
      "1                0                  1  \n",
      "2                1                  0  \n",
      "3                1                  0  \n",
      "4                1                  0  \n",
      "5                1                  0  \n",
      "6                0                  0  \n",
      "7                0                  0  \n"
     ]
    }
   ],
   "source": [
    "# One-Hot encoding the categorical parameter\n",
    "\n",
    "one_hot_encoded_data = pd.get_dummies(calls_revenue, columns = ['Team member'])\n",
    "print(one_hot_encoded_data)"
   ]
  }
 ],
 "metadata": {
  "kernelspec": {
   "display_name": "Python 3 (ipykernel)",
   "language": "python",
   "name": "python3"
  },
  "language_info": {
   "codemirror_mode": {
    "name": "ipython",
    "version": 3
   },
   "file_extension": ".py",
   "mimetype": "text/x-python",
   "name": "python",
   "nbconvert_exporter": "python",
   "pygments_lexer": "ipython3",
   "version": "3.9.7"
  }
 },
 "nbformat": 4,
 "nbformat_minor": 5
}
