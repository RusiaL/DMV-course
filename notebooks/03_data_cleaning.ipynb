{
 "cells": [
  {
   "cell_type": "markdown",
   "id": "2782a07a",
   "metadata": {},
   "source": [
    "The notebook uses the code described in <br>\n",
    "\"**Моем датасет: руководство по очистке данных в Python**\" by *furry.cat* <br>\n",
    "https://proglib.io/p/moem-dataset-rukovodstvo-po-ochistke-dannyh-v-python-2020-03-27"
   ]
  },
  {
   "cell_type": "markdown",
   "id": "03d3cb01",
   "metadata": {},
   "source": [
    "# Importing libraries"
   ]
  },
  {
   "cell_type": "code",
   "execution_count": 1,
   "id": "ecd86bd6",
   "metadata": {},
   "outputs": [],
   "source": [
    "import pandas as pd   # data analysis and manipulation tools\n",
    "import numpy as np    # multi-dimensional arrays and matrices\n",
    "import seaborn as sns # data visualization"
   ]
  },
  {
   "cell_type": "markdown",
   "id": "34af014c",
   "metadata": {},
   "source": [
    "# Importing the dataset"
   ]
  },
  {
   "cell_type": "code",
   "execution_count": 2,
   "id": "5fcf2397",
   "metadata": {},
   "outputs": [
    {
     "name": "stdout",
     "output_type": "stream",
     "text": [
      "(30471, 292)\n",
      "                 id       full_sq       life_sq         floor     max_floor  \\\n",
      "count  30471.000000  30471.000000  24088.000000  30304.000000  20899.000000   \n",
      "mean   15237.917397     54.214269     34.403271      7.670803     12.558974   \n",
      "std     8796.501536     38.031487     52.285733      5.319989      6.756550   \n",
      "min        1.000000      0.000000      0.000000      0.000000      0.000000   \n",
      "25%     7620.500000     38.000000     20.000000      3.000000      9.000000   \n",
      "50%    15238.000000     49.000000     30.000000      6.500000     12.000000   \n",
      "75%    22855.500000     63.000000     43.000000     11.000000     17.000000   \n",
      "max    30473.000000   5326.000000   7478.000000     77.000000    117.000000   \n",
      "\n",
      "           material    build_year      num_room      kitch_sq         state  \\\n",
      "count  20899.000000  1.686600e+04  20899.000000  20899.000000  16912.000000   \n",
      "mean       1.827121  3.068057e+03      1.909804      6.399301      2.107025   \n",
      "std        1.481154  1.543878e+05      0.851805     28.265979      0.880148   \n",
      "min        1.000000  0.000000e+00      0.000000      0.000000      1.000000   \n",
      "25%        1.000000  1.967000e+03      1.000000      1.000000      1.000000   \n",
      "50%        1.000000  1.979000e+03      2.000000      6.000000      2.000000   \n",
      "75%        2.000000  2.005000e+03      2.000000      9.000000      3.000000   \n",
      "max        6.000000  2.005201e+07     19.000000   2014.000000     33.000000   \n",
      "\n",
      "       ...  cafe_count_5000_price_2500  cafe_count_5000_price_4000  \\\n",
      "count  ...                30471.000000                30471.000000   \n",
      "mean   ...                   32.058318                   10.783860   \n",
      "std    ...                   73.465611                   28.385679   \n",
      "min    ...                    0.000000                    0.000000   \n",
      "25%    ...                    2.000000                    1.000000   \n",
      "50%    ...                    8.000000                    2.000000   \n",
      "75%    ...                   21.000000                    5.000000   \n",
      "max    ...                  377.000000                  147.000000   \n",
      "\n",
      "       cafe_count_5000_price_high  big_church_count_5000  church_count_5000  \\\n",
      "count                30471.000000           30471.000000       30471.000000   \n",
      "mean                     1.771783              15.045552          30.251518   \n",
      "std                      5.418807              29.118668          47.347938   \n",
      "min                      0.000000               0.000000           0.000000   \n",
      "25%                      0.000000               2.000000           9.000000   \n",
      "50%                      0.000000               7.000000          16.000000   \n",
      "75%                      1.000000              12.000000          28.000000   \n",
      "max                     30.000000             151.000000         250.000000   \n",
      "\n",
      "       mosque_count_5000  leisure_count_5000  sport_count_5000  \\\n",
      "count       30471.000000        30471.000000      30471.000000   \n",
      "mean            0.442421            8.648814         52.796593   \n",
      "std             0.609269           20.580741         46.292660   \n",
      "min             0.000000            0.000000          0.000000   \n",
      "25%             0.000000            0.000000         11.000000   \n",
      "50%             0.000000            2.000000         48.000000   \n",
      "75%             1.000000            7.000000         76.000000   \n",
      "max             2.000000          106.000000        218.000000   \n",
      "\n",
      "       market_count_5000     price_doc  \n",
      "count       30471.000000  3.047100e+04  \n",
      "mean            5.987070  7.123035e+06  \n",
      "std             4.889219  4.780111e+06  \n",
      "min             0.000000  1.000000e+05  \n",
      "25%             1.000000  4.740002e+06  \n",
      "50%             5.000000  6.274411e+06  \n",
      "75%            10.000000  8.300000e+06  \n",
      "max            21.000000  1.111111e+08  \n",
      "\n",
      "[8 rows x 276 columns]\n"
     ]
    }
   ],
   "source": [
    "df = pd.read_csv('data/03-bank.csv')\n",
    "\n",
    "# shape and data types of the data\n",
    "print(df.shape)\n",
    "print(df.describe())"
   ]
  },
  {
   "cell_type": "markdown",
   "id": "8e231a1b",
   "metadata": {},
   "source": [
    "# Missing data"
   ]
  },
  {
   "cell_type": "markdown",
   "id": "5703c806",
   "metadata": {},
   "source": [
    "### Missing values detection"
   ]
  },
  {
   "cell_type": "code",
   "execution_count": 3,
   "id": "af0f29ca",
   "metadata": {
    "scrolled": true
   },
   "outputs": [
    {
     "name": "stdout",
     "output_type": "stream",
     "text": [
      "life_sq - 21%\n",
      "max_floor - 31%\n",
      "material - 31%\n",
      "build_year - 45%\n",
      "num_room - 31%\n",
      "kitch_sq - 31%\n",
      "state - 44%\n",
      "preschool_quota - 22%\n",
      "school_quota - 22%\n",
      "hospital_beds_raion - 47%\n",
      "cafe_sum_500_min_price_avg - 44%\n",
      "cafe_sum_500_max_price_avg - 44%\n",
      "cafe_avg_price_500 - 44%\n",
      "cafe_sum_1000_min_price_avg - 21%\n",
      "cafe_sum_1000_max_price_avg - 21%\n",
      "cafe_avg_price_1000 - 21%\n"
     ]
    }
   ],
   "source": [
    "# Percentage list for missing values\n",
    "for col in df.columns:\n",
    "    pct_missing = np.mean(df[col].isnull())\n",
    "    \n",
    "    if pct_missing>0.2: # show the features with more than 20% missing values\n",
    "        print('{} - {}%'.format(col, round(pct_missing*100)))"
   ]
  },
  {
   "cell_type": "code",
   "execution_count": 4,
   "id": "c7d54275",
   "metadata": {},
   "outputs": [
    {
     "data": {
      "text/plain": [
       "<AxesSubplot:xlabel='index'>"
      ]
     },
     "execution_count": 4,
     "metadata": {},
     "output_type": "execute_result"
    },
    {
     "data": {
      "image/png": "[encoded data removed]",
      "text/plain": [
       "<Figure size 432x288 with 1 Axes>"
      ]
     },
     "metadata": {
      "needs_background": "light"
     },
     "output_type": "display_data"
    }
   ],
   "source": [
    "# Add the indicator of missing values\n",
    "for col in df.columns:\n",
    "    missing = df[col].isnull()\n",
    "    num_missing = np.sum(missing)\n",
    "    \n",
    "    if num_missing > 0:  \n",
    "        # create the missing value indicator variables \n",
    "        df['{}_ismissing'.format(col)] = missing\n",
    "\n",
    "# Build histogramm\n",
    "ismissing_cols = [col for col in df.columns if 'ismissing' in col]\n",
    "df['num_missing'] = df[ismissing_cols].sum(axis=1)\n",
    "\n",
    "df['num_missing'].value_counts().reset_index().sort_values(by=\n",
    "                            'index').plot.bar(x='index', y='num_missing')"
   ]
  },
  {
   "cell_type": "code",
   "execution_count": 5,
   "id": "2cc3ed30",
   "metadata": {},
   "outputs": [
    {
     "data": {
      "text/plain": [
       "<AxesSubplot:>"
      ]
     },
     "execution_count": 5,
     "metadata": {},
     "output_type": "execute_result"
    },
    {
     "data": {
      "image/png": "[encoded data removed]",
      "text/plain": [
       "<Figure size 432x288 with 2 Axes>"
      ]
     },
     "metadata": {
      "needs_background": "light"
     },
     "output_type": "display_data"
    }
   ],
   "source": [
    "cols = df.columns[:30] # cut the first 30 columns\n",
    "\n",
    "# Define the color: yellow reflects the missing data, blue reflects complete data \n",
    "colours = ['#000099', '#ffff00'] \n",
    "sns.heatmap(df[cols].isnull(), cmap=sns.color_palette(colours))"
   ]
  },
  {
   "cell_type": "markdown",
   "id": "4ad92a91",
   "metadata": {},
   "source": [
    "## Dealing with missing data"
   ]
  },
  {
   "cell_type": "code",
   "execution_count": 6,
   "id": "cb5b27dc",
   "metadata": {},
   "outputs": [
    {
     "name": "stdout",
     "output_type": "stream",
     "text": [
      "(29779, 344)\n"
     ]
    }
   ],
   "source": [
    "# Drop the rows with many missing values\n",
    "\n",
    "ind_missing = df[df['num_missing'] > 35].index\n",
    "df_less_missing_rows = df.drop(ind_missing, axis=0)\n",
    "\n",
    "print(df_less_missing_rows.shape)"
   ]
  },
  {
   "cell_type": "code",
   "execution_count": 7,
   "id": "2f7fe6e4",
   "metadata": {},
   "outputs": [
    {
     "name": "stdout",
     "output_type": "stream",
     "text": [
      "(30471, 343)\n"
     ]
    }
   ],
   "source": [
    "# Drop the feature 'hospital_beds_raion' (47% of missing values)\n",
    "\n",
    "df_less_hos_beds_raion = df.drop('hospital_beds_raion', axis=1)\n",
    "\n",
    "print(df_less_hos_beds_raion.shape)"
   ]
  },
  {
   "cell_type": "code",
   "execution_count": 8,
   "id": "8415cd9b",
   "metadata": {},
   "outputs": [
    {
     "name": "stdout",
     "output_type": "stream",
     "text": [
      "30.0\n",
      "(30471, 344)\n"
     ]
    }
   ],
   "source": [
    "# Imput the missig values with mediana\n",
    "\n",
    "med = df['life_sq'].median()\n",
    "print(med)\n",
    "\n",
    "df['life_sq'] = df['life_sq'].fillna(med)\n",
    "print(df.shape)"
   ]
  },
  {
   "cell_type": "code",
   "execution_count": 9,
   "id": "1662f72e",
   "metadata": {},
   "outputs": [
    {
     "name": "stdout",
     "output_type": "stream",
     "text": [
      "(30471, 344)\n"
     ]
    }
   ],
   "source": [
    "# Impute the missing values for each numeric column.\n",
    "df_numeric = df.select_dtypes(include=[np.number])\n",
    "numeric_cols = df_numeric.columns.values\n",
    "\n",
    "for col in numeric_cols:\n",
    "    missing = df[col].isnull()\n",
    "    num_missing = np.sum(missing)\n",
    "    \n",
    "    # only do the imputation for the columns that have missing values\n",
    "    if num_missing > 0:  \n",
    "        # print('imputing missing values for: {}'.format(col))\n",
    "        med = df[col].median()\n",
    "        df[col] = df[col].fillna(med)\n",
    "        \n",
    "print(df.shape)"
   ]
  },
  {
   "cell_type": "code",
   "execution_count": 10,
   "id": "82976cf2",
   "metadata": {},
   "outputs": [],
   "source": [
    "# Replace the missing data\n",
    "\n",
    "# categorical feature\n",
    "df['sub_area'] = df['sub_area'].fillna('_MISSING_')\n",
    "\n",
    "# numerical feature\n",
    "df['life_sq'] = df['life_sq'].fillna(-999)"
   ]
  },
  {
   "cell_type": "markdown",
   "id": "f85992af",
   "metadata": {},
   "source": [
    "# Outliers"
   ]
  },
  {
   "cell_type": "markdown",
   "id": "be5ae34f",
   "metadata": {},
   "source": [
    "## Outliers detection"
   ]
  },
  {
   "cell_type": "code",
   "execution_count": 11,
   "id": "fbac347f",
   "metadata": {},
   "outputs": [
    {
     "data": {
      "text/plain": [
       "<AxesSubplot:>"
      ]
     },
     "execution_count": 11,
     "metadata": {},
     "output_type": "execute_result"
    },
    {
     "data": {
      "image/png": "[encoded data removed]",
      "text/plain": [
       "<Figure size 432x288 with 1 Axes>"
      ]
     },
     "metadata": {
      "needs_background": "light"
     },
     "output_type": "display_data"
    }
   ],
   "source": [
    "# Boxplot\n",
    "\n",
    "df.boxplot(column=['life_sq'])"
   ]
  },
  {
   "cell_type": "code",
   "execution_count": 12,
   "id": "b01f7b6e",
   "metadata": {},
   "outputs": [
    {
     "data": {
      "text/plain": [
       "count    30471.000000\n",
       "mean        33.480883\n",
       "std         46.522251\n",
       "min          0.000000\n",
       "25%         22.000000\n",
       "50%         30.000000\n",
       "75%         38.000000\n",
       "max       7478.000000\n",
       "Name: life_sq, dtype: float64"
      ]
     },
     "execution_count": 12,
     "metadata": {},
     "output_type": "execute_result"
    }
   ],
   "source": [
    "# Descriptive statistics\n",
    "\n",
    "df['life_sq'].describe()"
   ]
  },
  {
   "cell_type": "markdown",
   "id": "38a82f5b",
   "metadata": {},
   "source": [
    "## Dealing with outlers\n",
    "See techniques for dealing with missing values"
   ]
  },
  {
   "cell_type": "markdown",
   "id": "1408f944",
   "metadata": {},
   "source": [
    "# Irrelevant data\n",
    "If the feature contents of many rows with the same data, it does not provide helpful information"
   ]
  },
  {
   "cell_type": "markdown",
   "id": "05e10c63",
   "metadata": {},
   "source": [
    "## Irrelevant data detection"
   ]
  },
  {
   "cell_type": "code",
   "execution_count": 13,
   "id": "a31b8eb0",
   "metadata": {},
   "outputs": [
    {
     "name": "stdout",
     "output_type": "stream",
     "text": [
      "oil_chemistry_raion: 99.029%\n",
      "no     30175\n",
      "yes      296\n",
      "Name: oil_chemistry_raion, dtype: int64\n",
      "\n",
      "railroad_terminal_raion: 96.272%\n",
      "no     29335\n",
      "yes     1136\n",
      "Name: railroad_terminal_raion, dtype: int64\n",
      "\n",
      "nuclear_reactor_raion: 97.168%\n",
      "no     29608\n",
      "yes      863\n",
      "Name: nuclear_reactor_raion, dtype: int64\n",
      "\n",
      "build_count_foam: 95.356%\n",
      "0.0     29056\n",
      "1.0       969\n",
      "11.0      262\n",
      "2.0       184\n",
      "Name: build_count_foam, dtype: int64\n",
      "\n",
      "big_road1_1line: 97.437%\n",
      "no     29690\n",
      "yes      781\n",
      "Name: big_road1_1line, dtype: int64\n",
      "\n",
      "railroad_1line: 97.069%\n",
      "no     29578\n",
      "yes      893\n",
      "Name: railroad_1line, dtype: int64\n",
      "\n",
      "cafe_count_500_price_high: 97.256%\n",
      "0    29635\n",
      "1      787\n",
      "2       38\n",
      "3       11\n",
      "Name: cafe_count_500_price_high, dtype: int64\n",
      "\n",
      "mosque_count_500: 99.511%\n",
      "0    30322\n",
      "1      149\n",
      "Name: mosque_count_500, dtype: int64\n",
      "\n",
      "cafe_count_1000_price_high: 95.527%\n",
      "0    29108\n",
      "1     1104\n",
      "2      145\n",
      "3       51\n",
      "4       39\n",
      "5       15\n",
      "6        8\n",
      "7        1\n",
      "Name: cafe_count_1000_price_high, dtype: int64\n",
      "\n",
      "mosque_count_1000: 98.083%\n",
      "0    29887\n",
      "1      584\n",
      "Name: mosque_count_1000, dtype: int64\n",
      "\n",
      "mosque_count_1500: 96.219%\n",
      "0    29319\n",
      "1     1152\n",
      "Name: mosque_count_1500, dtype: int64\n",
      "\n",
      "floor_ismissing: 99.452%\n",
      "False    30304\n",
      "True       167\n",
      "Name: floor_ismissing, dtype: int64\n",
      "\n",
      "metro_min_walk_ismissing: 99.918%\n",
      "False    30446\n",
      "True        25\n",
      "Name: metro_min_walk_ismissing, dtype: int64\n",
      "\n",
      "metro_km_walk_ismissing: 99.918%\n",
      "False    30446\n",
      "True        25\n",
      "Name: metro_km_walk_ismissing, dtype: int64\n",
      "\n",
      "railroad_station_walk_km_ismissing: 99.918%\n",
      "False    30446\n",
      "True        25\n",
      "Name: railroad_station_walk_km_ismissing, dtype: int64\n",
      "\n",
      "railroad_station_walk_min_ismissing: 99.918%\n",
      "False    30446\n",
      "True        25\n",
      "Name: railroad_station_walk_min_ismissing, dtype: int64\n",
      "\n",
      "ID_railroad_station_walk_ismissing: 99.918%\n",
      "False    30446\n",
      "True        25\n",
      "Name: ID_railroad_station_walk_ismissing, dtype: int64\n",
      "\n",
      "cafe_sum_3000_min_price_avg_ismissing: 96.748%\n",
      "False    29480\n",
      "True       991\n",
      "Name: cafe_sum_3000_min_price_avg_ismissing, dtype: int64\n",
      "\n",
      "cafe_sum_3000_max_price_avg_ismissing: 96.748%\n",
      "False    29480\n",
      "True       991\n",
      "Name: cafe_sum_3000_max_price_avg_ismissing, dtype: int64\n",
      "\n",
      "cafe_avg_price_3000_ismissing: 96.748%\n",
      "False    29480\n",
      "True       991\n",
      "Name: cafe_avg_price_3000_ismissing, dtype: int64\n",
      "\n",
      "prom_part_5000_ismissing: 99.416%\n",
      "False    30293\n",
      "True       178\n",
      "Name: prom_part_5000_ismissing, dtype: int64\n",
      "\n",
      "cafe_sum_5000_min_price_avg_ismissing: 99.025%\n",
      "False    30174\n",
      "True       297\n",
      "Name: cafe_sum_5000_min_price_avg_ismissing, dtype: int64\n",
      "\n",
      "cafe_sum_5000_max_price_avg_ismissing: 99.025%\n",
      "False    30174\n",
      "True       297\n",
      "Name: cafe_sum_5000_max_price_avg_ismissing, dtype: int64\n",
      "\n",
      "cafe_avg_price_5000_ismissing: 99.025%\n",
      "False    30174\n",
      "True       297\n",
      "Name: cafe_avg_price_5000_ismissing, dtype: int64\n",
      "\n"
     ]
    }
   ],
   "source": [
    "num_rows = len(df.index)\n",
    "low_information_cols = [] \n",
    "\n",
    "for col in df.columns:\n",
    "    cnts = df[col].value_counts(dropna=False)\n",
    "    top_pct = (cnts/num_rows).iloc[0]\n",
    "    \n",
    "    if top_pct > 0.95:\n",
    "        low_information_cols.append(col)\n",
    "        print('{0}: {1:.3f}%'.format(col, top_pct*100))\n",
    "        print(cnts)\n",
    "        print()"
   ]
  },
  {
   "cell_type": "markdown",
   "id": "e4e7e65b",
   "metadata": {},
   "source": [
    "## Dealing with irrelevant data"
   ]
  },
  {
   "cell_type": "code",
   "execution_count": 14,
   "id": "c22a75bd",
   "metadata": {},
   "outputs": [
    {
     "data": {
      "text/html": [
       "<div>\n",
       "<style scoped>\n",
       "    .dataframe tbody tr th:only-of-type {\n",
       "        vertical-align: middle;\n",
       "    }\n",
       "\n",
       "    .dataframe tbody tr th {\n",
       "        vertical-align: top;\n",
       "    }\n",
       "\n",
       "    .dataframe thead th {\n",
       "        text-align: right;\n",
       "    }\n",
       "</style>\n",
       "<table border=\"1\" class=\"dataframe\">\n",
       "  <thead>\n",
       "    <tr style=\"text-align: right;\">\n",
       "      <th></th>\n",
       "      <th>id</th>\n",
       "      <th>timestamp</th>\n",
       "      <th>full_sq</th>\n",
       "      <th>life_sq</th>\n",
       "      <th>floor</th>\n",
       "      <th>max_floor</th>\n",
       "      <th>material</th>\n",
       "      <th>build_year</th>\n",
       "      <th>num_room</th>\n",
       "      <th>kitch_sq</th>\n",
       "      <th>...</th>\n",
       "      <th>cafe_sum_2000_max_price_avg_ismissing</th>\n",
       "      <th>cafe_avg_price_2000_ismissing</th>\n",
       "      <th>cafe_sum_3000_min_price_avg_ismissing</th>\n",
       "      <th>cafe_sum_3000_max_price_avg_ismissing</th>\n",
       "      <th>cafe_avg_price_3000_ismissing</th>\n",
       "      <th>prom_part_5000_ismissing</th>\n",
       "      <th>cafe_sum_5000_min_price_avg_ismissing</th>\n",
       "      <th>cafe_sum_5000_max_price_avg_ismissing</th>\n",
       "      <th>cafe_avg_price_5000_ismissing</th>\n",
       "      <th>num_missing</th>\n",
       "    </tr>\n",
       "  </thead>\n",
       "  <tbody>\n",
       "    <tr>\n",
       "      <th>0</th>\n",
       "      <td>1</td>\n",
       "      <td>2011-08-20</td>\n",
       "      <td>43</td>\n",
       "      <td>27.0</td>\n",
       "      <td>4.0</td>\n",
       "      <td>12.0</td>\n",
       "      <td>1.0</td>\n",
       "      <td>1979.0</td>\n",
       "      <td>2.0</td>\n",
       "      <td>6.0</td>\n",
       "      <td>...</td>\n",
       "      <td>False</td>\n",
       "      <td>False</td>\n",
       "      <td>False</td>\n",
       "      <td>False</td>\n",
       "      <td>False</td>\n",
       "      <td>False</td>\n",
       "      <td>False</td>\n",
       "      <td>False</td>\n",
       "      <td>False</td>\n",
       "      <td>9</td>\n",
       "    </tr>\n",
       "    <tr>\n",
       "      <th>1</th>\n",
       "      <td>2</td>\n",
       "      <td>2011-08-23</td>\n",
       "      <td>34</td>\n",
       "      <td>19.0</td>\n",
       "      <td>3.0</td>\n",
       "      <td>12.0</td>\n",
       "      <td>1.0</td>\n",
       "      <td>1979.0</td>\n",
       "      <td>2.0</td>\n",
       "      <td>6.0</td>\n",
       "      <td>...</td>\n",
       "      <td>False</td>\n",
       "      <td>False</td>\n",
       "      <td>False</td>\n",
       "      <td>False</td>\n",
       "      <td>False</td>\n",
       "      <td>False</td>\n",
       "      <td>False</td>\n",
       "      <td>False</td>\n",
       "      <td>False</td>\n",
       "      <td>6</td>\n",
       "    </tr>\n",
       "    <tr>\n",
       "      <th>2</th>\n",
       "      <td>3</td>\n",
       "      <td>2011-08-27</td>\n",
       "      <td>43</td>\n",
       "      <td>29.0</td>\n",
       "      <td>2.0</td>\n",
       "      <td>12.0</td>\n",
       "      <td>1.0</td>\n",
       "      <td>1979.0</td>\n",
       "      <td>2.0</td>\n",
       "      <td>6.0</td>\n",
       "      <td>...</td>\n",
       "      <td>False</td>\n",
       "      <td>False</td>\n",
       "      <td>False</td>\n",
       "      <td>False</td>\n",
       "      <td>False</td>\n",
       "      <td>False</td>\n",
       "      <td>False</td>\n",
       "      <td>False</td>\n",
       "      <td>False</td>\n",
       "      <td>6</td>\n",
       "    </tr>\n",
       "    <tr>\n",
       "      <th>3</th>\n",
       "      <td>4</td>\n",
       "      <td>2011-09-01</td>\n",
       "      <td>89</td>\n",
       "      <td>50.0</td>\n",
       "      <td>9.0</td>\n",
       "      <td>12.0</td>\n",
       "      <td>1.0</td>\n",
       "      <td>1979.0</td>\n",
       "      <td>2.0</td>\n",
       "      <td>6.0</td>\n",
       "      <td>...</td>\n",
       "      <td>False</td>\n",
       "      <td>False</td>\n",
       "      <td>False</td>\n",
       "      <td>False</td>\n",
       "      <td>False</td>\n",
       "      <td>False</td>\n",
       "      <td>False</td>\n",
       "      <td>False</td>\n",
       "      <td>False</td>\n",
       "      <td>7</td>\n",
       "    </tr>\n",
       "    <tr>\n",
       "      <th>4</th>\n",
       "      <td>5</td>\n",
       "      <td>2011-09-05</td>\n",
       "      <td>77</td>\n",
       "      <td>77.0</td>\n",
       "      <td>4.0</td>\n",
       "      <td>12.0</td>\n",
       "      <td>1.0</td>\n",
       "      <td>1979.0</td>\n",
       "      <td>2.0</td>\n",
       "      <td>6.0</td>\n",
       "      <td>...</td>\n",
       "      <td>False</td>\n",
       "      <td>False</td>\n",
       "      <td>False</td>\n",
       "      <td>False</td>\n",
       "      <td>False</td>\n",
       "      <td>False</td>\n",
       "      <td>False</td>\n",
       "      <td>False</td>\n",
       "      <td>False</td>\n",
       "      <td>6</td>\n",
       "    </tr>\n",
       "    <tr>\n",
       "      <th>...</th>\n",
       "      <td>...</td>\n",
       "      <td>...</td>\n",
       "      <td>...</td>\n",
       "      <td>...</td>\n",
       "      <td>...</td>\n",
       "      <td>...</td>\n",
       "      <td>...</td>\n",
       "      <td>...</td>\n",
       "      <td>...</td>\n",
       "      <td>...</td>\n",
       "      <td>...</td>\n",
       "      <td>...</td>\n",
       "      <td>...</td>\n",
       "      <td>...</td>\n",
       "      <td>...</td>\n",
       "      <td>...</td>\n",
       "      <td>...</td>\n",
       "      <td>...</td>\n",
       "      <td>...</td>\n",
       "      <td>...</td>\n",
       "      <td>...</td>\n",
       "    </tr>\n",
       "    <tr>\n",
       "      <th>30466</th>\n",
       "      <td>30469</td>\n",
       "      <td>2015-06-30</td>\n",
       "      <td>44</td>\n",
       "      <td>27.0</td>\n",
       "      <td>7.0</td>\n",
       "      <td>9.0</td>\n",
       "      <td>1.0</td>\n",
       "      <td>1975.0</td>\n",
       "      <td>2.0</td>\n",
       "      <td>6.0</td>\n",
       "      <td>...</td>\n",
       "      <td>False</td>\n",
       "      <td>False</td>\n",
       "      <td>False</td>\n",
       "      <td>False</td>\n",
       "      <td>False</td>\n",
       "      <td>False</td>\n",
       "      <td>False</td>\n",
       "      <td>False</td>\n",
       "      <td>False</td>\n",
       "      <td>1</td>\n",
       "    </tr>\n",
       "    <tr>\n",
       "      <th>30467</th>\n",
       "      <td>30470</td>\n",
       "      <td>2015-06-30</td>\n",
       "      <td>86</td>\n",
       "      <td>59.0</td>\n",
       "      <td>3.0</td>\n",
       "      <td>9.0</td>\n",
       "      <td>2.0</td>\n",
       "      <td>1935.0</td>\n",
       "      <td>4.0</td>\n",
       "      <td>10.0</td>\n",
       "      <td>...</td>\n",
       "      <td>False</td>\n",
       "      <td>False</td>\n",
       "      <td>False</td>\n",
       "      <td>False</td>\n",
       "      <td>False</td>\n",
       "      <td>False</td>\n",
       "      <td>False</td>\n",
       "      <td>False</td>\n",
       "      <td>False</td>\n",
       "      <td>0</td>\n",
       "    </tr>\n",
       "    <tr>\n",
       "      <th>30468</th>\n",
       "      <td>30471</td>\n",
       "      <td>2015-06-30</td>\n",
       "      <td>45</td>\n",
       "      <td>30.0</td>\n",
       "      <td>10.0</td>\n",
       "      <td>20.0</td>\n",
       "      <td>1.0</td>\n",
       "      <td>1979.0</td>\n",
       "      <td>1.0</td>\n",
       "      <td>1.0</td>\n",
       "      <td>...</td>\n",
       "      <td>False</td>\n",
       "      <td>False</td>\n",
       "      <td>False</td>\n",
       "      <td>False</td>\n",
       "      <td>False</td>\n",
       "      <td>False</td>\n",
       "      <td>False</td>\n",
       "      <td>False</td>\n",
       "      <td>False</td>\n",
       "      <td>21</td>\n",
       "    </tr>\n",
       "    <tr>\n",
       "      <th>30469</th>\n",
       "      <td>30472</td>\n",
       "      <td>2015-06-30</td>\n",
       "      <td>64</td>\n",
       "      <td>32.0</td>\n",
       "      <td>5.0</td>\n",
       "      <td>15.0</td>\n",
       "      <td>1.0</td>\n",
       "      <td>2003.0</td>\n",
       "      <td>2.0</td>\n",
       "      <td>11.0</td>\n",
       "      <td>...</td>\n",
       "      <td>False</td>\n",
       "      <td>False</td>\n",
       "      <td>False</td>\n",
       "      <td>False</td>\n",
       "      <td>False</td>\n",
       "      <td>False</td>\n",
       "      <td>False</td>\n",
       "      <td>False</td>\n",
       "      <td>False</td>\n",
       "      <td>0</td>\n",
       "    </tr>\n",
       "    <tr>\n",
       "      <th>30470</th>\n",
       "      <td>30473</td>\n",
       "      <td>2015-06-30</td>\n",
       "      <td>43</td>\n",
       "      <td>28.0</td>\n",
       "      <td>1.0</td>\n",
       "      <td>9.0</td>\n",
       "      <td>1.0</td>\n",
       "      <td>1968.0</td>\n",
       "      <td>2.0</td>\n",
       "      <td>6.0</td>\n",
       "      <td>...</td>\n",
       "      <td>False</td>\n",
       "      <td>False</td>\n",
       "      <td>False</td>\n",
       "      <td>False</td>\n",
       "      <td>False</td>\n",
       "      <td>False</td>\n",
       "      <td>False</td>\n",
       "      <td>False</td>\n",
       "      <td>False</td>\n",
       "      <td>0</td>\n",
       "    </tr>\n",
       "  </tbody>\n",
       "</table>\n",
       "<p>30471 rows × 343 columns</p>\n",
       "</div>"
      ],
      "text/plain": [
       "          id   timestamp  full_sq  life_sq  floor  max_floor  material  \\\n",
       "0          1  2011-08-20       43     27.0    4.0       12.0       1.0   \n",
       "1          2  2011-08-23       34     19.0    3.0       12.0       1.0   \n",
       "2          3  2011-08-27       43     29.0    2.0       12.0       1.0   \n",
       "3          4  2011-09-01       89     50.0    9.0       12.0       1.0   \n",
       "4          5  2011-09-05       77     77.0    4.0       12.0       1.0   \n",
       "...      ...         ...      ...      ...    ...        ...       ...   \n",
       "30466  30469  2015-06-30       44     27.0    7.0        9.0       1.0   \n",
       "30467  30470  2015-06-30       86     59.0    3.0        9.0       2.0   \n",
       "30468  30471  2015-06-30       45     30.0   10.0       20.0       1.0   \n",
       "30469  30472  2015-06-30       64     32.0    5.0       15.0       1.0   \n",
       "30470  30473  2015-06-30       43     28.0    1.0        9.0       1.0   \n",
       "\n",
       "       build_year  num_room  kitch_sq  ...  \\\n",
       "0          1979.0       2.0       6.0  ...   \n",
       "1          1979.0       2.0       6.0  ...   \n",
       "2          1979.0       2.0       6.0  ...   \n",
       "3          1979.0       2.0       6.0  ...   \n",
       "4          1979.0       2.0       6.0  ...   \n",
       "...           ...       ...       ...  ...   \n",
       "30466      1975.0       2.0       6.0  ...   \n",
       "30467      1935.0       4.0      10.0  ...   \n",
       "30468      1979.0       1.0       1.0  ...   \n",
       "30469      2003.0       2.0      11.0  ...   \n",
       "30470      1968.0       2.0       6.0  ...   \n",
       "\n",
       "       cafe_sum_2000_max_price_avg_ismissing cafe_avg_price_2000_ismissing  \\\n",
       "0                                      False                         False   \n",
       "1                                      False                         False   \n",
       "2                                      False                         False   \n",
       "3                                      False                         False   \n",
       "4                                      False                         False   \n",
       "...                                      ...                           ...   \n",
       "30466                                  False                         False   \n",
       "30467                                  False                         False   \n",
       "30468                                  False                         False   \n",
       "30469                                  False                         False   \n",
       "30470                                  False                         False   \n",
       "\n",
       "      cafe_sum_3000_min_price_avg_ismissing  \\\n",
       "0                                     False   \n",
       "1                                     False   \n",
       "2                                     False   \n",
       "3                                     False   \n",
       "4                                     False   \n",
       "...                                     ...   \n",
       "30466                                 False   \n",
       "30467                                 False   \n",
       "30468                                 False   \n",
       "30469                                 False   \n",
       "30470                                 False   \n",
       "\n",
       "       cafe_sum_3000_max_price_avg_ismissing  cafe_avg_price_3000_ismissing  \\\n",
       "0                                      False                          False   \n",
       "1                                      False                          False   \n",
       "2                                      False                          False   \n",
       "3                                      False                          False   \n",
       "4                                      False                          False   \n",
       "...                                      ...                            ...   \n",
       "30466                                  False                          False   \n",
       "30467                                  False                          False   \n",
       "30468                                  False                          False   \n",
       "30469                                  False                          False   \n",
       "30470                                  False                          False   \n",
       "\n",
       "       prom_part_5000_ismissing  cafe_sum_5000_min_price_avg_ismissing  \\\n",
       "0                         False                                  False   \n",
       "1                         False                                  False   \n",
       "2                         False                                  False   \n",
       "3                         False                                  False   \n",
       "4                         False                                  False   \n",
       "...                         ...                                    ...   \n",
       "30466                     False                                  False   \n",
       "30467                     False                                  False   \n",
       "30468                     False                                  False   \n",
       "30469                     False                                  False   \n",
       "30470                     False                                  False   \n",
       "\n",
       "       cafe_sum_5000_max_price_avg_ismissing  cafe_avg_price_5000_ismissing  \\\n",
       "0                                      False                          False   \n",
       "1                                      False                          False   \n",
       "2                                      False                          False   \n",
       "3                                      False                          False   \n",
       "4                                      False                          False   \n",
       "...                                      ...                            ...   \n",
       "30466                                  False                          False   \n",
       "30467                                  False                          False   \n",
       "30468                                  False                          False   \n",
       "30469                                  False                          False   \n",
       "30470                                  False                          False   \n",
       "\n",
       "       num_missing  \n",
       "0                9  \n",
       "1                6  \n",
       "2                6  \n",
       "3                7  \n",
       "4                6  \n",
       "...            ...  \n",
       "30466            1  \n",
       "30467            0  \n",
       "30468           21  \n",
       "30469            0  \n",
       "30470            0  \n",
       "\n",
       "[30471 rows x 343 columns]"
      ]
     },
     "execution_count": 14,
     "metadata": {},
     "output_type": "execute_result"
    }
   ],
   "source": [
    "df.drop(['metro_km_walk_ismissing'], axis=1)"
   ]
  },
  {
   "cell_type": "markdown",
   "id": "956fa247",
   "metadata": {},
   "source": [
    "# Duplicated records"
   ]
  },
  {
   "cell_type": "markdown",
   "id": "aaa13d3b",
   "metadata": {},
   "source": [
    "## Duplicated records detection"
   ]
  },
  {
   "cell_type": "code",
   "execution_count": 15,
   "id": "c826004d",
   "metadata": {},
   "outputs": [
    {
     "name": "stdout",
     "output_type": "stream",
     "text": [
      "(30471, 344)\n",
      "(30461, 343)\n"
     ]
    }
   ],
   "source": [
    "# drop not-unique rows\n",
    "df_dedupped = df.drop('id', axis=1).drop_duplicates()\n",
    "\n",
    "# compare the dataframe dimentions\n",
    "print(df.shape)\n",
    "print(df_dedupped.shape)"
   ]
  },
  {
   "cell_type": "markdown",
   "id": "98fe010a",
   "metadata": {},
   "source": [
    "## Dealing with duplicated data"
   ]
  },
  {
   "cell_type": "code",
   "execution_count": 16,
   "id": "095fcaa9",
   "metadata": {},
   "outputs": [
    {
     "name": "stdout",
     "output_type": "stream",
     "text": [
      "(30471, 344)\n",
      "(30455, 344)\n"
     ]
    }
   ],
   "source": [
    "key = ['timestamp', 'full_sq', 'life_sq', 'floor', 'build_year', \n",
    "       'num_room', 'price_doc']\n",
    "df_dedupped2 = df.drop_duplicates(subset=key)\n",
    "\n",
    "print(df.shape)\n",
    "print(df_dedupped2.shape)"
   ]
  },
  {
   "cell_type": "code",
   "execution_count": 17,
   "id": "994638e5",
   "metadata": {},
   "outputs": [
    {
     "data": {
      "text/plain": [
       "timestamp   full_sq  life_sq  floor  build_year  num_room  price_doc\n",
       "2013-12-18  39       30.0     6.0    1979.0      1.0       3700946      2\n",
       "2015-03-30  41       41.0     11.0   2016.0      1.0       4114580      2\n",
       "2015-03-14  62       30.0     2.0    1979.0      2.0       6520500      2\n",
       "2013-12-05  40       30.0     5.0    1979.0      1.0       4414080      2\n",
       "2013-06-24  40       30.0     12.0   1979.0      2.0       4112800      2\n",
       "2013-08-30  40       30.0     12.0   1979.0      1.0       4462000      2\n",
       "2014-12-09  40       30.0     17.0   1979.0      1.0       4607265      2\n",
       "2012-08-27  59       30.0     6.0    1979.0      2.0       4506800      2\n",
       "2014-04-15  134      134.0    1.0    0.0         3.0       5798496      2\n",
       "2013-09-23  85       30.0     14.0   1979.0      3.0       7725974      2\n",
       "2014-01-22  46       28.0     1.0    1968.0      2.0       3000000      2\n",
       "2014-12-17  62       30.0     9.0    1979.0      2.0       6552000      2\n",
       "2012-10-22  61       30.0     18.0   1979.0      2.0       8248500      2\n",
       "2013-04-03  42       30.0     2.0    1979.0      2.0       3444000      2\n",
       "2012-09-05  43       30.0     21.0   1979.0      2.0       6229540      2\n",
       "2013-05-22  68       30.0     2.0    1979.0      2.0       5406690      2\n",
       "2014-06-28  39       20.0     8.0    1980.0      1.0       7400000      1\n",
       "            38       30.0     16.0   1979.0      1.0       4661000      1\n",
       "                              9.0    1979.0      1.0       4021422      1\n",
       "                              6.0    1979.0      1.0       4737189      1\n",
       "Name: id, dtype: int64"
      ]
     },
     "execution_count": 17,
     "metadata": {},
     "output_type": "execute_result"
    }
   ],
   "source": [
    "# Data duplicated on key features\n",
    "\n",
    "key = ['timestamp', 'full_sq', 'life_sq', 'floor', 'build_year', \n",
    "       'num_room', 'price_doc']\n",
    "\n",
    "df.fillna(-999).groupby(key)['id'].count().sort_values(ascending=False).head(20)"
   ]
  },
  {
   "cell_type": "markdown",
   "id": "3a269f7d",
   "metadata": {},
   "source": [
    "## Data entry errors\n",
    "<i>For categorical data</i>"
   ]
  },
  {
   "cell_type": "code",
   "execution_count": 18,
   "id": "3ff7be6f",
   "metadata": {},
   "outputs": [
    {
     "data": {
      "text/html": [
       "<div>\n",
       "<style scoped>\n",
       "    .dataframe tbody tr th:only-of-type {\n",
       "        vertical-align: middle;\n",
       "    }\n",
       "\n",
       "    .dataframe tbody tr th {\n",
       "        vertical-align: top;\n",
       "    }\n",
       "\n",
       "    .dataframe thead th {\n",
       "        text-align: right;\n",
       "    }\n",
       "</style>\n",
       "<table border=\"1\" class=\"dataframe\">\n",
       "  <thead>\n",
       "    <tr style=\"text-align: right;\">\n",
       "      <th></th>\n",
       "      <th>city</th>\n",
       "      <th>city_distance_toronto</th>\n",
       "      <th>city_distance_vancouver</th>\n",
       "    </tr>\n",
       "  </thead>\n",
       "  <tbody>\n",
       "    <tr>\n",
       "      <th>0</th>\n",
       "      <td>torontoo</td>\n",
       "      <td>1</td>\n",
       "      <td>8</td>\n",
       "    </tr>\n",
       "    <tr>\n",
       "      <th>1</th>\n",
       "      <td>toronto</td>\n",
       "      <td>0</td>\n",
       "      <td>8</td>\n",
       "    </tr>\n",
       "    <tr>\n",
       "      <th>2</th>\n",
       "      <td>tronto</td>\n",
       "      <td>1</td>\n",
       "      <td>8</td>\n",
       "    </tr>\n",
       "    <tr>\n",
       "      <th>3</th>\n",
       "      <td>vancouver</td>\n",
       "      <td>8</td>\n",
       "      <td>0</td>\n",
       "    </tr>\n",
       "    <tr>\n",
       "      <th>4</th>\n",
       "      <td>vancover</td>\n",
       "      <td>7</td>\n",
       "      <td>1</td>\n",
       "    </tr>\n",
       "    <tr>\n",
       "      <th>5</th>\n",
       "      <td>vancouvr</td>\n",
       "      <td>7</td>\n",
       "      <td>1</td>\n",
       "    </tr>\n",
       "    <tr>\n",
       "      <th>6</th>\n",
       "      <td>montreal</td>\n",
       "      <td>7</td>\n",
       "      <td>8</td>\n",
       "    </tr>\n",
       "    <tr>\n",
       "      <th>7</th>\n",
       "      <td>calgary</td>\n",
       "      <td>7</td>\n",
       "      <td>8</td>\n",
       "    </tr>\n",
       "  </tbody>\n",
       "</table>\n",
       "</div>"
      ],
      "text/plain": [
       "        city  city_distance_toronto  city_distance_vancouver\n",
       "0   torontoo                      1                        8\n",
       "1    toronto                      0                        8\n",
       "2     tronto                      1                        8\n",
       "3  vancouver                      8                        0\n",
       "4   vancover                      7                        1\n",
       "5   vancouvr                      7                        1\n",
       "6   montreal                      7                        8\n",
       "7    calgary                      7                        8"
      ]
     },
     "execution_count": 18,
     "metadata": {},
     "output_type": "execute_result"
    }
   ],
   "source": [
    "# Typos detection\n",
    "from nltk.metrics import edit_distance\n",
    "\n",
    "# Prepare artificial dataset\n",
    "df_city_ex = pd.DataFrame(data={'city': ['torontoo', 'toronto', 'tronto', 'vancouver', \n",
    "                                         'vancover', 'vancouvr', 'montreal', 'calgary']})\n",
    "\n",
    "df_city_ex['city_distance_toronto'] = df_city_ex['city'].map(lambda x: \n",
    "                                                        edit_distance(x, 'toronto'))\n",
    "df_city_ex['city_distance_vancouver'] = df_city_ex['city'].map(lambda x: \n",
    "                                                        edit_distance(x, 'vancouver'))\n",
    "df_city_ex"
   ]
  },
  {
   "cell_type": "code",
   "execution_count": 19,
   "id": "255914e6",
   "metadata": {},
   "outputs": [
    {
     "data": {
      "text/html": [
       "<div>\n",
       "<style scoped>\n",
       "    .dataframe tbody tr th:only-of-type {\n",
       "        vertical-align: middle;\n",
       "    }\n",
       "\n",
       "    .dataframe tbody tr th {\n",
       "        vertical-align: top;\n",
       "    }\n",
       "\n",
       "    .dataframe thead th {\n",
       "        text-align: right;\n",
       "    }\n",
       "</style>\n",
       "<table border=\"1\" class=\"dataframe\">\n",
       "  <thead>\n",
       "    <tr style=\"text-align: right;\">\n",
       "      <th></th>\n",
       "      <th>city</th>\n",
       "      <th>city_distance_toronto</th>\n",
       "      <th>city_distance_vancouver</th>\n",
       "    </tr>\n",
       "  </thead>\n",
       "  <tbody>\n",
       "    <tr>\n",
       "      <th>0</th>\n",
       "      <td>toronto</td>\n",
       "      <td>1</td>\n",
       "      <td>8</td>\n",
       "    </tr>\n",
       "    <tr>\n",
       "      <th>1</th>\n",
       "      <td>toronto</td>\n",
       "      <td>0</td>\n",
       "      <td>8</td>\n",
       "    </tr>\n",
       "    <tr>\n",
       "      <th>2</th>\n",
       "      <td>toronto</td>\n",
       "      <td>1</td>\n",
       "      <td>8</td>\n",
       "    </tr>\n",
       "    <tr>\n",
       "      <th>3</th>\n",
       "      <td>vancouver</td>\n",
       "      <td>8</td>\n",
       "      <td>0</td>\n",
       "    </tr>\n",
       "    <tr>\n",
       "      <th>4</th>\n",
       "      <td>vancouver</td>\n",
       "      <td>7</td>\n",
       "      <td>1</td>\n",
       "    </tr>\n",
       "    <tr>\n",
       "      <th>5</th>\n",
       "      <td>vancouver</td>\n",
       "      <td>7</td>\n",
       "      <td>1</td>\n",
       "    </tr>\n",
       "    <tr>\n",
       "      <th>6</th>\n",
       "      <td>montreal</td>\n",
       "      <td>7</td>\n",
       "      <td>8</td>\n",
       "    </tr>\n",
       "    <tr>\n",
       "      <th>7</th>\n",
       "      <td>calgary</td>\n",
       "      <td>7</td>\n",
       "      <td>8</td>\n",
       "    </tr>\n",
       "  </tbody>\n",
       "</table>\n",
       "</div>"
      ],
      "text/plain": [
       "        city  city_distance_toronto  city_distance_vancouver\n",
       "0    toronto                      1                        8\n",
       "1    toronto                      0                        8\n",
       "2    toronto                      1                        8\n",
       "3  vancouver                      8                        0\n",
       "4  vancouver                      7                        1\n",
       "5  vancouver                      7                        1\n",
       "6   montreal                      7                        8\n",
       "7    calgary                      7                        8"
      ]
     },
     "execution_count": 19,
     "metadata": {},
     "output_type": "execute_result"
    }
   ],
   "source": [
    "# Dealing with typos\n",
    "msk = df_city_ex['city_distance_toronto'] <= 2\n",
    "df_city_ex.loc[msk, 'city'] = 'toronto'\n",
    "\n",
    "msk = df_city_ex['city_distance_vancouver'] <= 2\n",
    "df_city_ex.loc[msk, 'city'] = 'vancouver'\n",
    "\n",
    "df_city_ex"
   ]
  }
 ],
 "metadata": {
  "kernelspec": {
   "display_name": "Python 3 (ipykernel)",
   "language": "python",
   "name": "python3"
  },
  "language_info": {
   "codemirror_mode": {
    "name": "ipython",
    "version": 3
   },
   "file_extension": ".py",
   "mimetype": "text/x-python",
   "name": "python",
   "nbconvert_exporter": "python",
   "pygments_lexer": "ipython3",
   "version": "3.9.7"
  }
 },
 "nbformat": 4,
 "nbformat_minor": 5
}
