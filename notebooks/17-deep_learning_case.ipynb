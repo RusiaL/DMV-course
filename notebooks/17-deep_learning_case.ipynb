{
 "cells": [
  {
   "cell_type": "code",
   "execution_count": 1,
   "id": "21fc766a",
   "metadata": {},
   "outputs": [],
   "source": [
    "import numpy as np \n",
    "import pandas as pd\n",
    "\n",
    "from sklearn.model_selection import train_test_split\n",
    "from sklearn.preprocessing import StandardScaler\n",
    "\n",
    "import tensorflow as tf\n",
    "from keras.models import Sequential\n",
    "from keras.layers import Dense"
   ]
  },
  {
   "cell_type": "code",
   "execution_count": 2,
   "id": "c6242395",
   "metadata": {},
   "outputs": [
    {
     "data": {
      "text/html": [
       "<div>\n",
       "<style scoped>\n",
       "    .dataframe tbody tr th:only-of-type {\n",
       "        vertical-align: middle;\n",
       "    }\n",
       "\n",
       "    .dataframe tbody tr th {\n",
       "        vertical-align: top;\n",
       "    }\n",
       "\n",
       "    .dataframe thead th {\n",
       "        text-align: right;\n",
       "    }\n",
       "</style>\n",
       "<table border=\"1\" class=\"dataframe\">\n",
       "  <thead>\n",
       "    <tr style=\"text-align: right;\">\n",
       "      <th></th>\n",
       "      <th>age</th>\n",
       "      <th>sex</th>\n",
       "      <th>bmi</th>\n",
       "      <th>children</th>\n",
       "      <th>smoker</th>\n",
       "      <th>region</th>\n",
       "      <th>charges</th>\n",
       "    </tr>\n",
       "  </thead>\n",
       "  <tbody>\n",
       "    <tr>\n",
       "      <th>0</th>\n",
       "      <td>19</td>\n",
       "      <td>female</td>\n",
       "      <td>27.900</td>\n",
       "      <td>0</td>\n",
       "      <td>yes</td>\n",
       "      <td>southwest</td>\n",
       "      <td>16884.92400</td>\n",
       "    </tr>\n",
       "    <tr>\n",
       "      <th>1</th>\n",
       "      <td>18</td>\n",
       "      <td>male</td>\n",
       "      <td>33.770</td>\n",
       "      <td>1</td>\n",
       "      <td>no</td>\n",
       "      <td>southeast</td>\n",
       "      <td>1725.55230</td>\n",
       "    </tr>\n",
       "    <tr>\n",
       "      <th>2</th>\n",
       "      <td>28</td>\n",
       "      <td>male</td>\n",
       "      <td>33.000</td>\n",
       "      <td>3</td>\n",
       "      <td>no</td>\n",
       "      <td>southeast</td>\n",
       "      <td>4449.46200</td>\n",
       "    </tr>\n",
       "    <tr>\n",
       "      <th>3</th>\n",
       "      <td>33</td>\n",
       "      <td>male</td>\n",
       "      <td>22.705</td>\n",
       "      <td>0</td>\n",
       "      <td>no</td>\n",
       "      <td>northwest</td>\n",
       "      <td>21984.47061</td>\n",
       "    </tr>\n",
       "    <tr>\n",
       "      <th>4</th>\n",
       "      <td>32</td>\n",
       "      <td>male</td>\n",
       "      <td>28.880</td>\n",
       "      <td>0</td>\n",
       "      <td>no</td>\n",
       "      <td>northwest</td>\n",
       "      <td>3866.85520</td>\n",
       "    </tr>\n",
       "  </tbody>\n",
       "</table>\n",
       "</div>"
      ],
      "text/plain": [
       "   age     sex     bmi  children smoker     region      charges\n",
       "0   19  female  27.900         0    yes  southwest  16884.92400\n",
       "1   18    male  33.770         1     no  southeast   1725.55230\n",
       "2   28    male  33.000         3     no  southeast   4449.46200\n",
       "3   33    male  22.705         0     no  northwest  21984.47061\n",
       "4   32    male  28.880         0     no  northwest   3866.85520"
      ]
     },
     "execution_count": 2,
     "metadata": {},
     "output_type": "execute_result"
    }
   ],
   "source": [
    "df = pd.read_csv(\"data/05-insurance.csv\")\n",
    "df.head()"
   ]
  },
  {
   "cell_type": "markdown",
   "id": "d7e65b9d",
   "metadata": {},
   "source": [
    "## Regression with NN"
   ]
  },
  {
   "cell_type": "code",
   "execution_count": 3,
   "id": "97774b00",
   "metadata": {},
   "outputs": [],
   "source": [
    "features = ['age', 'bmi', 'children']\n",
    "labels = ['charges']\n",
    "\n",
    "X = df[features].values\n",
    "y = df[labels].values"
   ]
  },
  {
   "cell_type": "code",
   "execution_count": 4,
   "id": "487b25b2",
   "metadata": {},
   "outputs": [],
   "source": [
    "# Data standartization\n",
    "FeaturScaler = StandardScaler()\n",
    "LabelScaler = StandardScaler()\n",
    " \n",
    "# Storing the fit object for later reference\n",
    "FeaturScalerFit = FeaturScaler.fit(X)\n",
    "LabelScalerFit = LabelScaler.fit(y)\n",
    " \n",
    "# Generating the standardized values of X and y\n",
    "X = FeaturScalerFit.transform(X)\n",
    "y = LabelScalerFit.transform(y) "
   ]
  },
  {
   "cell_type": "code",
   "execution_count": 5,
   "id": "d88907eb",
   "metadata": {},
   "outputs": [
    {
     "name": "stdout",
     "output_type": "stream",
     "text": [
      "(936, 3)\n",
      "(936, 1)\n",
      "(402, 3)\n",
      "(402, 1)\n"
     ]
    }
   ],
   "source": [
    "# Split the data into training and testing set\n",
    "X_train, X_test, y_train, y_test = train_test_split(X, y, test_size=0.3, random_state=42) \n",
    "\n",
    "# Quick sanity check with the shapes of Training and testing datasets\n",
    "print(X_train.shape)\n",
    "print(y_train.shape)\n",
    "print(X_test.shape)\n",
    "print(y_test.shape)"
   ]
  },
  {
   "cell_type": "code",
   "execution_count": 6,
   "id": "ea520a07",
   "metadata": {},
   "outputs": [
    {
     "name": "stdout",
     "output_type": "stream",
     "text": [
      "13/13 [==============================] - 0s 1ms/step\n"
     ]
    },
    {
     "data": {
      "text/html": [
       "<div>\n",
       "<style scoped>\n",
       "    .dataframe tbody tr th:only-of-type {\n",
       "        vertical-align: middle;\n",
       "    }\n",
       "\n",
       "    .dataframe tbody tr th {\n",
       "        vertical-align: top;\n",
       "    }\n",
       "\n",
       "    .dataframe thead th {\n",
       "        text-align: right;\n",
       "    }\n",
       "</style>\n",
       "<table border=\"1\" class=\"dataframe\">\n",
       "  <thead>\n",
       "    <tr style=\"text-align: right;\">\n",
       "      <th></th>\n",
       "      <th>age</th>\n",
       "      <th>bmi</th>\n",
       "      <th>children</th>\n",
       "      <th>charges</th>\n",
       "      <th>Predicted charges</th>\n",
       "    </tr>\n",
       "  </thead>\n",
       "  <tbody>\n",
       "    <tr>\n",
       "      <th>0</th>\n",
       "      <td>45.0</td>\n",
       "      <td>25.175</td>\n",
       "      <td>2.0</td>\n",
       "      <td>9095.06825</td>\n",
       "      <td>12414.236328</td>\n",
       "    </tr>\n",
       "    <tr>\n",
       "      <th>1</th>\n",
       "      <td>36.0</td>\n",
       "      <td>30.020</td>\n",
       "      <td>0.0</td>\n",
       "      <td>5272.17580</td>\n",
       "      <td>11607.973633</td>\n",
       "    </tr>\n",
       "    <tr>\n",
       "      <th>2</th>\n",
       "      <td>64.0</td>\n",
       "      <td>26.885</td>\n",
       "      <td>0.0</td>\n",
       "      <td>29330.98315</td>\n",
       "      <td>16427.097656</td>\n",
       "    </tr>\n",
       "    <tr>\n",
       "      <th>3</th>\n",
       "      <td>46.0</td>\n",
       "      <td>25.745</td>\n",
       "      <td>3.0</td>\n",
       "      <td>9301.89355</td>\n",
       "      <td>13466.015625</td>\n",
       "    </tr>\n",
       "    <tr>\n",
       "      <th>4</th>\n",
       "      <td>19.0</td>\n",
       "      <td>31.920</td>\n",
       "      <td>0.0</td>\n",
       "      <td>33750.29180</td>\n",
       "      <td>8904.275391</td>\n",
       "    </tr>\n",
       "  </tbody>\n",
       "</table>\n",
       "</div>"
      ],
      "text/plain": [
       "    age     bmi  children      charges  Predicted charges\n",
       "0  45.0  25.175       2.0   9095.06825       12414.236328\n",
       "1  36.0  30.020       0.0   5272.17580       11607.973633\n",
       "2  64.0  26.885       0.0  29330.98315       16427.097656\n",
       "3  46.0  25.745       3.0   9301.89355       13466.015625\n",
       "4  19.0  31.920       0.0  33750.29180        8904.275391"
      ]
     },
     "execution_count": 6,
     "metadata": {},
     "output_type": "execute_result"
    }
   ],
   "source": [
    "# Create model\n",
    "model = Sequential()\n",
    "model.add(Dense(units=5, input_dim=X_train.shape[1], kernel_initializer='normal', activation='relu'))\n",
    "model.add(Dense(units=3, kernel_initializer='normal', activation='relu'))\n",
    "model.add(Dense(1, kernel_initializer='normal'))\n",
    "model.compile(loss='mean_squared_error', optimizer='adam')\n",
    "\n",
    "# Fitting the ANN to the Training set\n",
    "model.fit(X_train, y_train, batch_size = 1, epochs = 5, verbose=0)\n",
    " \n",
    "# Generating Predictions on testing data\n",
    "Predictions = model.predict(X_test)\n",
    " \n",
    "# Scaling the predicted Price data back to original price scale\n",
    "Predictions = LabelScalerFit.inverse_transform(Predictions)\n",
    " \n",
    "# Scaling the y_test Price data back to original price scale\n",
    "y_test_orig = LabelScalerFit.inverse_transform(y_test)\n",
    " \n",
    "# Scaling the test data back to original scale\n",
    "Test_Data = FeaturScalerFit.inverse_transform(X_test)\n",
    " \n",
    "TestingData = pd.DataFrame(data=Test_Data, columns=features)\n",
    "TestingData['charges'] = y_test_orig\n",
    "TestingData['Predicted charges'] = Predictions\n",
    "TestingData.head()"
   ]
  },
  {
   "cell_type": "code",
   "execution_count": 7,
   "id": "2c6d303b",
   "metadata": {},
   "outputs": [
    {
     "name": "stdout",
     "output_type": "stream",
     "text": [
      "The Accuracy of ANN model is: -12.26 %\n"
     ]
    }
   ],
   "source": [
    "# Computing the absolute percent error\n",
    "errors = (TestingData['charges'] - TestingData['Predicted charges']) / TestingData['charges']\n",
    "APE = 100 * abs(errors)\n",
    "TestingData['APE'] = APE\n",
    " \n",
    "print('The Accuracy of ANN model is:', round(100-np.mean(APE), 2), '%')"
   ]
  },
  {
   "cell_type": "markdown",
   "id": "a637da18",
   "metadata": {},
   "source": [
    "## Classification with NN"
   ]
  },
  {
   "cell_type": "code",
   "execution_count": 8,
   "id": "0767e8d1",
   "metadata": {},
   "outputs": [
    {
     "data": {
      "text/html": [
       "<div>\n",
       "<style scoped>\n",
       "    .dataframe tbody tr th:only-of-type {\n",
       "        vertical-align: middle;\n",
       "    }\n",
       "\n",
       "    .dataframe tbody tr th {\n",
       "        vertical-align: top;\n",
       "    }\n",
       "\n",
       "    .dataframe thead th {\n",
       "        text-align: right;\n",
       "    }\n",
       "</style>\n",
       "<table border=\"1\" class=\"dataframe\">\n",
       "  <thead>\n",
       "    <tr style=\"text-align: right;\">\n",
       "      <th></th>\n",
       "      <th>age</th>\n",
       "      <th>sex</th>\n",
       "      <th>bmi</th>\n",
       "      <th>children</th>\n",
       "      <th>smoker</th>\n",
       "      <th>region</th>\n",
       "      <th>charges</th>\n",
       "      <th>below_10000</th>\n",
       "      <th>over_30000</th>\n",
       "      <th>between</th>\n",
       "    </tr>\n",
       "  </thead>\n",
       "  <tbody>\n",
       "    <tr>\n",
       "      <th>0</th>\n",
       "      <td>19</td>\n",
       "      <td>female</td>\n",
       "      <td>27.900</td>\n",
       "      <td>0</td>\n",
       "      <td>yes</td>\n",
       "      <td>southwest</td>\n",
       "      <td>16884.92400</td>\n",
       "      <td>0</td>\n",
       "      <td>0</td>\n",
       "      <td>1</td>\n",
       "    </tr>\n",
       "    <tr>\n",
       "      <th>1</th>\n",
       "      <td>18</td>\n",
       "      <td>male</td>\n",
       "      <td>33.770</td>\n",
       "      <td>1</td>\n",
       "      <td>no</td>\n",
       "      <td>southeast</td>\n",
       "      <td>1725.55230</td>\n",
       "      <td>1</td>\n",
       "      <td>0</td>\n",
       "      <td>0</td>\n",
       "    </tr>\n",
       "    <tr>\n",
       "      <th>2</th>\n",
       "      <td>28</td>\n",
       "      <td>male</td>\n",
       "      <td>33.000</td>\n",
       "      <td>3</td>\n",
       "      <td>no</td>\n",
       "      <td>southeast</td>\n",
       "      <td>4449.46200</td>\n",
       "      <td>1</td>\n",
       "      <td>0</td>\n",
       "      <td>0</td>\n",
       "    </tr>\n",
       "    <tr>\n",
       "      <th>3</th>\n",
       "      <td>33</td>\n",
       "      <td>male</td>\n",
       "      <td>22.705</td>\n",
       "      <td>0</td>\n",
       "      <td>no</td>\n",
       "      <td>northwest</td>\n",
       "      <td>21984.47061</td>\n",
       "      <td>0</td>\n",
       "      <td>0</td>\n",
       "      <td>1</td>\n",
       "    </tr>\n",
       "    <tr>\n",
       "      <th>4</th>\n",
       "      <td>32</td>\n",
       "      <td>male</td>\n",
       "      <td>28.880</td>\n",
       "      <td>0</td>\n",
       "      <td>no</td>\n",
       "      <td>northwest</td>\n",
       "      <td>3866.85520</td>\n",
       "      <td>1</td>\n",
       "      <td>0</td>\n",
       "      <td>0</td>\n",
       "    </tr>\n",
       "  </tbody>\n",
       "</table>\n",
       "</div>"
      ],
      "text/plain": [
       "   age     sex     bmi  children smoker     region      charges  below_10000  \\\n",
       "0   19  female  27.900         0    yes  southwest  16884.92400            0   \n",
       "1   18    male  33.770         1     no  southeast   1725.55230            1   \n",
       "2   28    male  33.000         3     no  southeast   4449.46200            1   \n",
       "3   33    male  22.705         0     no  northwest  21984.47061            0   \n",
       "4   32    male  28.880         0     no  northwest   3866.85520            1   \n",
       "\n",
       "   over_30000  between  \n",
       "0           0        1  \n",
       "1           0        0  \n",
       "2           0        0  \n",
       "3           0        1  \n",
       "4           0        0  "
      ]
     },
     "execution_count": 8,
     "metadata": {},
     "output_type": "execute_result"
    }
   ],
   "source": [
    "# Divide all records according to charges into three groups  \n",
    "# and encode the groups\n",
    "df[\"below_10000\"] = df[\"charges\"].apply(lambda x: 1 if x <= 10000 else 0)\n",
    "df[\"over_30000\"]  = df[\"charges\"].apply(lambda x: 1 if x >= 30000 else 0)\n",
    "df[\"between\"]     = df[\"charges\"].apply(lambda x: 1 if x > 10000 and x < 30000 else 0)\n",
    "df.head()"
   ]
  },
  {
   "cell_type": "code",
   "execution_count": 9,
   "id": "19a90848",
   "metadata": {},
   "outputs": [],
   "source": [
    "X = df[[\"age\", \"bmi\", \"children\"]]\n",
    "\n",
    "# Values normalization\n",
    "scaler = StandardScaler().fit(X)\n",
    "X = scaler.transform(X)"
   ]
  },
  {
   "cell_type": "markdown",
   "id": "f6a52651",
   "metadata": {},
   "source": [
    "### Option #1\n",
    "\n",
    "Three classes are coded with three output variables (1 0 0, 0 1 0, 0 0 1). In the output layer NN has three neurons"
   ]
  },
  {
   "cell_type": "code",
   "execution_count": 10,
   "id": "543c5f89",
   "metadata": {},
   "outputs": [],
   "source": [
    "y = df[[\"below_10000\", \"over_30000\", \"between\"]]\n",
    "\n",
    "X_train, X_test, y_train, y_test = train_test_split(X, y, test_size=0.33, \n",
    "                                                    random_state=42)"
   ]
  },
  {
   "cell_type": "code",
   "execution_count": 11,
   "id": "75ff83cd",
   "metadata": {},
   "outputs": [
    {
     "name": "stdout",
     "output_type": "stream",
     "text": [
      "Model: \"sequential_1\"\n",
      "_________________________________________________________________\n",
      " Layer (type)                Output Shape              Param #   \n",
      "=================================================================\n",
      " dense_3 (Dense)             (None, 3)                 12        \n",
      "                                                                 \n",
      " dense_4 (Dense)             (None, 6)                 24        \n",
      "                                                                 \n",
      " dense_5 (Dense)             (None, 6)                 42        \n",
      "                                                                 \n",
      " dense_6 (Dense)             (None, 3)                 21        \n",
      "                                                                 \n",
      "=================================================================\n",
      "Total params: 99\n",
      "Trainable params: 99\n",
      "Non-trainable params: 0\n",
      "_________________________________________________________________\n"
     ]
    }
   ],
   "source": [
    "model = Sequential()\n",
    "model.add(Dense(3, activation='relu', input_shape=(3,)))\n",
    "model.add(Dense(6, activation='relu'))\n",
    "model.add(Dense(6, activation='relu'))\n",
    "model.add(Dense(3, activation='sigmoid'))\n",
    "model.summary() "
   ]
  },
  {
   "cell_type": "code",
   "execution_count": 12,
   "id": "bdd0c72e",
   "metadata": {},
   "outputs": [
    {
     "name": "stdout",
     "output_type": "stream",
     "text": [
      "Epoch 1/5\n",
      "896/896 [==============================] - 3s 3ms/step - loss: 0.5952 - accuracy: 0.5915 - val_loss: 0.5516 - val_accuracy: 0.6629\n",
      "Epoch 2/5\n",
      "896/896 [==============================] - 2s 3ms/step - loss: 0.5318 - accuracy: 0.6562 - val_loss: 0.5005 - val_accuracy: 0.6900\n",
      "Epoch 3/5\n",
      "896/896 [==============================] - 2s 3ms/step - loss: 0.4989 - accuracy: 0.6931 - val_loss: 0.4693 - val_accuracy: 0.7172\n",
      "Epoch 4/5\n",
      "896/896 [==============================] - 2s 3ms/step - loss: 0.4775 - accuracy: 0.7031 - val_loss: 0.4513 - val_accuracy: 0.6991\n",
      "Epoch 5/5\n",
      "896/896 [==============================] - 2s 3ms/step - loss: 0.4626 - accuracy: 0.7143 - val_loss: 0.4309 - val_accuracy: 0.7489\n"
     ]
    }
   ],
   "source": [
    "model.compile(loss = 'binary_crossentropy', optimizer = 'sgd', metrics = ['accuracy'])\n",
    "history = model.fit(X_train, y_train, epochs=5, batch_size=1, \n",
    "                    validation_data = (X_test, y_test))"
   ]
  },
  {
   "cell_type": "code",
   "execution_count": 13,
   "id": "9d36b4a3",
   "metadata": {},
   "outputs": [
    {
     "name": "stdout",
     "output_type": "stream",
     "text": [
      "14/14 [==============================] - 0s 2ms/step - loss: 0.4309 - accuracy: 0.7489\n"
     ]
    },
    {
     "data": {
      "text/plain": [
       "[0.430868923664093, 0.7488687634468079]"
      ]
     },
     "execution_count": 13,
     "metadata": {},
     "output_type": "execute_result"
    }
   ],
   "source": [
    "model.evaluate(X_test,y_test)"
   ]
  },
  {
   "cell_type": "markdown",
   "id": "619ba079",
   "metadata": {},
   "source": [
    "### Option #2\n",
    "\n",
    "Three classes are coded with two output variables (1 0, 0 1, 0 0). In the output layer NN has two neurons"
   ]
  },
  {
   "cell_type": "code",
   "execution_count": 14,
   "id": "40e071e0",
   "metadata": {},
   "outputs": [],
   "source": [
    "y = df[[\"below_10000\", \"over_30000\"]]\n",
    "\n",
    "X_train, X_test, y_train, y_test = train_test_split(X, y, test_size=0.33, \n",
    "                                                    random_state=42)"
   ]
  },
  {
   "cell_type": "code",
   "execution_count": 15,
   "id": "280c24c0",
   "metadata": {},
   "outputs": [
    {
     "name": "stdout",
     "output_type": "stream",
     "text": [
      "Model: \"sequential_2\"\n",
      "_________________________________________________________________\n",
      " Layer (type)                Output Shape              Param #   \n",
      "=================================================================\n",
      " dense_7 (Dense)             (None, 3)                 12        \n",
      "                                                                 \n",
      " dense_8 (Dense)             (None, 6)                 24        \n",
      "                                                                 \n",
      " dense_9 (Dense)             (None, 6)                 42        \n",
      "                                                                 \n",
      " dense_10 (Dense)            (None, 2)                 14        \n",
      "                                                                 \n",
      "=================================================================\n",
      "Total params: 92\n",
      "Trainable params: 92\n",
      "Non-trainable params: 0\n",
      "_________________________________________________________________\n"
     ]
    }
   ],
   "source": [
    "model = Sequential()\n",
    "model.add(Dense(3, activation='relu', input_shape=(3,)))\n",
    "model.add(Dense(6, activation='relu'))\n",
    "model.add(Dense(6, activation='relu'))\n",
    "model.add(Dense(2, activation='sigmoid'))\n",
    "model.summary() "
   ]
  },
  {
   "cell_type": "code",
   "execution_count": 16,
   "id": "aa82d4eb",
   "metadata": {},
   "outputs": [
    {
     "name": "stdout",
     "output_type": "stream",
     "text": [
      "Epoch 1/5\n",
      "896/896 [==============================] - 3s 3ms/step - loss: 0.5687 - accuracy: 0.8661 - val_loss: 0.5228 - val_accuracy: 0.8824\n",
      "Epoch 2/5\n",
      "896/896 [==============================] - 2s 3ms/step - loss: 0.5215 - accuracy: 0.8772 - val_loss: 0.5033 - val_accuracy: 0.8824\n",
      "Epoch 3/5\n",
      "896/896 [==============================] - 2s 3ms/step - loss: 0.5071 - accuracy: 0.8772 - val_loss: 0.4845 - val_accuracy: 0.8824\n",
      "Epoch 4/5\n",
      "896/896 [==============================] - 2s 3ms/step - loss: 0.4914 - accuracy: 0.8772 - val_loss: 0.4690 - val_accuracy: 0.8824\n",
      "Epoch 5/5\n",
      "896/896 [==============================] - 2s 3ms/step - loss: 0.4736 - accuracy: 0.8772 - val_loss: 0.4525 - val_accuracy: 0.8824\n"
     ]
    }
   ],
   "source": [
    "model.compile(loss = 'binary_crossentropy', optimizer = 'sgd', metrics = ['accuracy'])\n",
    "history = model.fit(X_train, y_train, epochs=5, batch_size=1, \n",
    "                    validation_data = (X_test, y_test))"
   ]
  },
  {
   "cell_type": "code",
   "execution_count": 17,
   "id": "26ffe5fd",
   "metadata": {},
   "outputs": [
    {
     "name": "stdout",
     "output_type": "stream",
     "text": [
      "14/14 [==============================] - 0s 2ms/step - loss: 0.4525 - accuracy: 0.8824\n"
     ]
    },
    {
     "data": {
      "text/plain": [
       "[0.4525352120399475, 0.8823529481887817]"
      ]
     },
     "execution_count": 17,
     "metadata": {},
     "output_type": "execute_result"
    }
   ],
   "source": [
    "model.evaluate(X_test,y_test)"
   ]
  },
  {
   "cell_type": "code",
   "execution_count": null,
   "id": "6309b456",
   "metadata": {},
   "outputs": [],
   "source": []
  }
 ],
 "metadata": {
  "kernelspec": {
   "display_name": "Python 3 (ipykernel)",
   "language": "python",
   "name": "python3"
  },
  "language_info": {
   "codemirror_mode": {
    "name": "ipython",
    "version": 3
   },
   "file_extension": ".py",
   "mimetype": "text/x-python",
   "name": "python",
   "nbconvert_exporter": "python",
   "pygments_lexer": "ipython3",
   "version": "3.9.7"
  }
 },
 "nbformat": 4,
 "nbformat_minor": 5
}
