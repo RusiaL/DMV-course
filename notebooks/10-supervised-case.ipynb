{
 "cells": [
  {
   "cell_type": "code",
   "execution_count": 1,
   "id": "065846d3",
   "metadata": {},
   "outputs": [],
   "source": [
    "import numpy as np \n",
    "import pandas as pd \n",
    "import matplotlib.pyplot as plt\n",
    "from sklearn import linear_model\n",
    "from sklearn.model_selection import train_test_split\n",
    "from sklearn.metrics import classification_report, accuracy_score\n",
    "\n",
    "%matplotlib inline"
   ]
  },
  {
   "cell_type": "code",
   "execution_count": 2,
   "id": "1c8a5921",
   "metadata": {},
   "outputs": [
    {
     "data": {
      "text/html": [
       "<div>\n",
       "<style scoped>\n",
       "    .dataframe tbody tr th:only-of-type {\n",
       "        vertical-align: middle;\n",
       "    }\n",
       "\n",
       "    .dataframe tbody tr th {\n",
       "        vertical-align: top;\n",
       "    }\n",
       "\n",
       "    .dataframe thead th {\n",
       "        text-align: right;\n",
       "    }\n",
       "</style>\n",
       "<table border=\"1\" class=\"dataframe\">\n",
       "  <thead>\n",
       "    <tr style=\"text-align: right;\">\n",
       "      <th></th>\n",
       "      <th>age</th>\n",
       "      <th>sex</th>\n",
       "      <th>bmi</th>\n",
       "      <th>children</th>\n",
       "      <th>smoker</th>\n",
       "      <th>region</th>\n",
       "      <th>charges</th>\n",
       "    </tr>\n",
       "  </thead>\n",
       "  <tbody>\n",
       "    <tr>\n",
       "      <th>0</th>\n",
       "      <td>19</td>\n",
       "      <td>female</td>\n",
       "      <td>27.900</td>\n",
       "      <td>0</td>\n",
       "      <td>yes</td>\n",
       "      <td>southwest</td>\n",
       "      <td>16884.92400</td>\n",
       "    </tr>\n",
       "    <tr>\n",
       "      <th>1</th>\n",
       "      <td>18</td>\n",
       "      <td>male</td>\n",
       "      <td>33.770</td>\n",
       "      <td>1</td>\n",
       "      <td>no</td>\n",
       "      <td>southeast</td>\n",
       "      <td>1725.55230</td>\n",
       "    </tr>\n",
       "    <tr>\n",
       "      <th>2</th>\n",
       "      <td>28</td>\n",
       "      <td>male</td>\n",
       "      <td>33.000</td>\n",
       "      <td>3</td>\n",
       "      <td>no</td>\n",
       "      <td>southeast</td>\n",
       "      <td>4449.46200</td>\n",
       "    </tr>\n",
       "    <tr>\n",
       "      <th>3</th>\n",
       "      <td>33</td>\n",
       "      <td>male</td>\n",
       "      <td>22.705</td>\n",
       "      <td>0</td>\n",
       "      <td>no</td>\n",
       "      <td>northwest</td>\n",
       "      <td>21984.47061</td>\n",
       "    </tr>\n",
       "    <tr>\n",
       "      <th>4</th>\n",
       "      <td>32</td>\n",
       "      <td>male</td>\n",
       "      <td>28.880</td>\n",
       "      <td>0</td>\n",
       "      <td>no</td>\n",
       "      <td>northwest</td>\n",
       "      <td>3866.85520</td>\n",
       "    </tr>\n",
       "  </tbody>\n",
       "</table>\n",
       "</div>"
      ],
      "text/plain": [
       "   age     sex     bmi  children smoker     region      charges\n",
       "0   19  female  27.900         0    yes  southwest  16884.92400\n",
       "1   18    male  33.770         1     no  southeast   1725.55230\n",
       "2   28    male  33.000         3     no  southeast   4449.46200\n",
       "3   33    male  22.705         0     no  northwest  21984.47061\n",
       "4   32    male  28.880         0     no  northwest   3866.85520"
      ]
     },
     "execution_count": 2,
     "metadata": {},
     "output_type": "execute_result"
    }
   ],
   "source": [
    "df = pd.read_csv(\"data/05-insurance.csv\")\n",
    "df.head()"
   ]
  },
  {
   "cell_type": "code",
   "execution_count": 3,
   "id": "c3c6eb73",
   "metadata": {},
   "outputs": [
    {
     "data": {
      "text/html": [
       "<div>\n",
       "<style scoped>\n",
       "    .dataframe tbody tr th:only-of-type {\n",
       "        vertical-align: middle;\n",
       "    }\n",
       "\n",
       "    .dataframe tbody tr th {\n",
       "        vertical-align: top;\n",
       "    }\n",
       "\n",
       "    .dataframe thead th {\n",
       "        text-align: right;\n",
       "    }\n",
       "</style>\n",
       "<table border=\"1\" class=\"dataframe\">\n",
       "  <thead>\n",
       "    <tr style=\"text-align: right;\">\n",
       "      <th></th>\n",
       "      <th>count</th>\n",
       "      <th>mean</th>\n",
       "      <th>std</th>\n",
       "      <th>min</th>\n",
       "      <th>25%</th>\n",
       "      <th>50%</th>\n",
       "      <th>75%</th>\n",
       "      <th>max</th>\n",
       "    </tr>\n",
       "  </thead>\n",
       "  <tbody>\n",
       "    <tr>\n",
       "      <th>age</th>\n",
       "      <td>1338.0</td>\n",
       "      <td>39.207025</td>\n",
       "      <td>14.049960</td>\n",
       "      <td>18.0000</td>\n",
       "      <td>27.00000</td>\n",
       "      <td>39.000</td>\n",
       "      <td>51.000000</td>\n",
       "      <td>64.00000</td>\n",
       "    </tr>\n",
       "    <tr>\n",
       "      <th>bmi</th>\n",
       "      <td>1338.0</td>\n",
       "      <td>30.663397</td>\n",
       "      <td>6.098187</td>\n",
       "      <td>15.9600</td>\n",
       "      <td>26.29625</td>\n",
       "      <td>30.400</td>\n",
       "      <td>34.693750</td>\n",
       "      <td>53.13000</td>\n",
       "    </tr>\n",
       "    <tr>\n",
       "      <th>children</th>\n",
       "      <td>1338.0</td>\n",
       "      <td>1.094918</td>\n",
       "      <td>1.205493</td>\n",
       "      <td>0.0000</td>\n",
       "      <td>0.00000</td>\n",
       "      <td>1.000</td>\n",
       "      <td>2.000000</td>\n",
       "      <td>5.00000</td>\n",
       "    </tr>\n",
       "    <tr>\n",
       "      <th>charges</th>\n",
       "      <td>1338.0</td>\n",
       "      <td>13270.422265</td>\n",
       "      <td>12110.011237</td>\n",
       "      <td>1121.8739</td>\n",
       "      <td>4740.28715</td>\n",
       "      <td>9382.033</td>\n",
       "      <td>16639.912515</td>\n",
       "      <td>63770.42801</td>\n",
       "    </tr>\n",
       "  </tbody>\n",
       "</table>\n",
       "</div>"
      ],
      "text/plain": [
       "           count          mean           std        min         25%       50%  \\\n",
       "age       1338.0     39.207025     14.049960    18.0000    27.00000    39.000   \n",
       "bmi       1338.0     30.663397      6.098187    15.9600    26.29625    30.400   \n",
       "children  1338.0      1.094918      1.205493     0.0000     0.00000     1.000   \n",
       "charges   1338.0  13270.422265  12110.011237  1121.8739  4740.28715  9382.033   \n",
       "\n",
       "                   75%          max  \n",
       "age          51.000000     64.00000  \n",
       "bmi          34.693750     53.13000  \n",
       "children      2.000000      5.00000  \n",
       "charges   16639.912515  63770.42801  "
      ]
     },
     "execution_count": 3,
     "metadata": {},
     "output_type": "execute_result"
    }
   ],
   "source": [
    "# Calculate descriptive statistics\n",
    "\n",
    "df.describe().T"
   ]
  },
  {
   "cell_type": "markdown",
   "id": "87974d21",
   "metadata": {},
   "source": [
    "## Linear Regression"
   ]
  },
  {
   "cell_type": "code",
   "execution_count": 4,
   "id": "270fc77a",
   "metadata": {},
   "outputs": [
    {
     "data": {
      "image/png": "[encoded data removed]",
      "text/plain": [
       "<Figure size 432x288 with 1 Axes>"
      ]
     },
     "metadata": {
      "needs_background": "light"
     },
     "output_type": "display_data"
    }
   ],
   "source": [
    "# Visualize (possible) dependency charges = f(age)\n",
    "\n",
    "x_values = df[\"age\"].values\n",
    "y_values = df[\"charges\"].values\n",
    "plt.scatter(x_values, y_values)\n",
    "plt.xlabel('Age')\n",
    "plt.ylabel('Charge in $')\n",
    "plt.title('Raw Data')\n",
    "plt.show()"
   ]
  },
  {
   "cell_type": "markdown",
   "id": "6c2142f8",
   "metadata": {},
   "source": [
    "The data looks linear on two different levels. The first is linear relationship \"charges = f(age) under ten thousand dollars\". Lets analyze this group only"
   ]
  },
  {
   "cell_type": "code",
   "execution_count": 5,
   "id": "91bf44d9",
   "metadata": {},
   "outputs": [],
   "source": [
    "below_10000 = df[df[\"charges\"] <= 10000]\n",
    "x_values = below_10000[\"age\"].values\n",
    "y_values = below_10000[\"charges\"].values"
   ]
  },
  {
   "cell_type": "code",
   "execution_count": 6,
   "id": "d64a720b",
   "metadata": {},
   "outputs": [
    {
     "name": "stdout",
     "output_type": "stream",
     "text": [
      "x_train shape (569, 1)\n",
      "y_train shape (569,)\n",
      "x_test shape (143, 1)\n",
      "y_test shape (143,)\n"
     ]
    }
   ],
   "source": [
    "# Splitting into training and testing sets\n",
    "\n",
    "#LinearRegression expect 2D array, so we need reshape 1D x_values into 2D x_array\n",
    "x_array = x_values.reshape(-1,1) \n",
    "\n",
    "x_train, x_test, y_train, y_test = train_test_split(x_array, y_values, \n",
    "                                                    train_size=.8, # 80% of initial dataset composes the training set\n",
    "                                                    test_size=.2)  # 20% of initial dataset composes the testing set\n",
    "print(f\"x_train shape {x_train.shape}\")\n",
    "print(f\"y_train shape {y_train.shape}\")\n",
    "print(f\"x_test shape {x_test.shape}\")\n",
    "print(f\"y_test shape {y_test.shape}\")"
   ]
  },
  {
   "cell_type": "code",
   "execution_count": 7,
   "id": "909a086b",
   "metadata": {},
   "outputs": [
    {
     "name": "stdout",
     "output_type": "stream",
     "text": [
      "lr.intercept_: -2636.2771345364217\n",
      "lr.coef_: [236.44063623]\n"
     ]
    }
   ],
   "source": [
    "# Linear regression\n",
    "regr = linear_model.LinearRegression()\n",
    "regr.fit(x_train, y_train)\n",
    "\n",
    "print(\"lr.intercept_:\", regr.intercept_) # b0\n",
    "print(\"lr.coef_:\", regr.coef_) # b1"
   ]
  },
  {
   "cell_type": "code",
   "execution_count": 8,
   "id": "e2d62311",
   "metadata": {},
   "outputs": [
    {
     "name": "stdout",
     "output_type": "stream",
     "text": [
      "Train Score: 91.98047413908823%\n",
      "Test Score: 90.02676806002444%\n"
     ]
    }
   ],
   "source": [
    "# Evaluation with R2*100%\n",
    "\n",
    "print(f\"Train Score: {regr.score(x_train,y_train)*100}%\")\n",
    "print(f\"Test Score: {regr.score(x_test,y_test)*100}%\")"
   ]
  },
  {
   "cell_type": "markdown",
   "id": "09dacf8f",
   "metadata": {},
   "source": [
    "Conclusion. Charges increase by $236 each year. The model is good (R2 is about 0.9)"
   ]
  },
  {
   "cell_type": "code",
   "execution_count": 9,
   "id": "5b905eb2",
   "metadata": {},
   "outputs": [
    {
     "data": {
      "text/plain": [
       "<function matplotlib.pyplot.plot(*args, scalex=True, scaley=True, data=None, **kwargs)>"
      ]
     },
     "execution_count": 9,
     "metadata": {},
     "output_type": "execute_result"
    },
    {
     "data": {
      "image/png": "[encoded data removed]",
      "text/plain": [
       "<Figure size 432x288 with 1 Axes>"
      ]
     },
     "metadata": {
      "needs_background": "light"
     },
     "output_type": "display_data"
    }
   ],
   "source": [
    "# Visualize dependency \"charges = f(age) under ten thousand dollars\"\n",
    "\n",
    "plt.scatter(x_train, y_train, color=\"yellow\")\n",
    "\n",
    "y_prediction = regr.predict(x_test)\n",
    "plt.plot(x_test, y_prediction)\n",
    "\n",
    "plt.xlabel(\"Age\")\n",
    "plt.ylabel(\"Charges in $\")\n",
    "plt.title(\"Linear Regression\")\n",
    "plt.plot"
   ]
  },
  {
   "cell_type": "markdown",
   "id": "1cc9de56",
   "metadata": {},
   "source": [
    "## Classifier of charges"
   ]
  },
  {
   "cell_type": "code",
   "execution_count": 10,
   "id": "b4f3f782",
   "metadata": {},
   "outputs": [],
   "source": [
    "# Data preparation\n",
    "\n",
    "x_class = df[['age', 'bmi']]\n",
    "y_class = [(chg <= 10000) for chg in df[\"charges\"]]\n",
    "\n",
    "x_train, x_test, y_train, y_test = train_test_split(x_class, y_class, \n",
    "                                                    train_size=.8, test_size=.2)  "
   ]
  },
  {
   "cell_type": "code",
   "execution_count": 11,
   "id": "348fee5f",
   "metadata": {},
   "outputs": [
    {
     "data": {
      "text/plain": [
       "LogisticRegression()"
      ]
     },
     "execution_count": 11,
     "metadata": {},
     "output_type": "execute_result"
    }
   ],
   "source": [
    "# Create an instance of the model and find fitting to data\n",
    "regr = linear_model.LogisticRegression()\n",
    "regr.fit(x_train, y_train) "
   ]
  },
  {
   "cell_type": "code",
   "execution_count": 12,
   "id": "d9a6cede",
   "metadata": {},
   "outputs": [
    {
     "name": "stdout",
     "output_type": "stream",
     "text": [
      "               precision    recall  f1-score   support\n",
      "\n",
      "Under $10 000       0.69      0.67      0.68       118\n",
      " Over $10 000       0.75      0.77      0.76       150\n",
      "\n",
      "     accuracy                           0.72       268\n",
      "    macro avg       0.72      0.72      0.72       268\n",
      " weighted avg       0.72      0.72      0.72       268\n",
      "\n"
     ]
    }
   ],
   "source": [
    "predictions = regr.predict(x_test)\n",
    "print(classification_report(y_test, predictions, \n",
    "                            target_names = [\"Under $10 000\",\"Over $10 000\"]))"
   ]
  },
  {
   "cell_type": "markdown",
   "id": "59fc24c8",
   "metadata": {},
   "source": [
    "## Impact of smoking"
   ]
  },
  {
   "cell_type": "code",
   "execution_count": 13,
   "id": "55269cea",
   "metadata": {},
   "outputs": [
    {
     "data": {
      "text/html": [
       "<div>\n",
       "<style scoped>\n",
       "    .dataframe tbody tr th:only-of-type {\n",
       "        vertical-align: middle;\n",
       "    }\n",
       "\n",
       "    .dataframe tbody tr th {\n",
       "        vertical-align: top;\n",
       "    }\n",
       "\n",
       "    .dataframe thead th {\n",
       "        text-align: right;\n",
       "    }\n",
       "</style>\n",
       "<table border=\"1\" class=\"dataframe\">\n",
       "  <thead>\n",
       "    <tr style=\"text-align: right;\">\n",
       "      <th></th>\n",
       "      <th>age</th>\n",
       "      <th>sex</th>\n",
       "      <th>bmi</th>\n",
       "      <th>children</th>\n",
       "      <th>region</th>\n",
       "      <th>charges</th>\n",
       "      <th>smoker_no</th>\n",
       "      <th>smoker_yes</th>\n",
       "    </tr>\n",
       "  </thead>\n",
       "  <tbody>\n",
       "    <tr>\n",
       "      <th>0</th>\n",
       "      <td>19</td>\n",
       "      <td>female</td>\n",
       "      <td>27.900</td>\n",
       "      <td>0</td>\n",
       "      <td>southwest</td>\n",
       "      <td>16884.92400</td>\n",
       "      <td>0</td>\n",
       "      <td>1</td>\n",
       "    </tr>\n",
       "    <tr>\n",
       "      <th>1</th>\n",
       "      <td>18</td>\n",
       "      <td>male</td>\n",
       "      <td>33.770</td>\n",
       "      <td>1</td>\n",
       "      <td>southeast</td>\n",
       "      <td>1725.55230</td>\n",
       "      <td>1</td>\n",
       "      <td>0</td>\n",
       "    </tr>\n",
       "    <tr>\n",
       "      <th>2</th>\n",
       "      <td>28</td>\n",
       "      <td>male</td>\n",
       "      <td>33.000</td>\n",
       "      <td>3</td>\n",
       "      <td>southeast</td>\n",
       "      <td>4449.46200</td>\n",
       "      <td>1</td>\n",
       "      <td>0</td>\n",
       "    </tr>\n",
       "    <tr>\n",
       "      <th>3</th>\n",
       "      <td>33</td>\n",
       "      <td>male</td>\n",
       "      <td>22.705</td>\n",
       "      <td>0</td>\n",
       "      <td>northwest</td>\n",
       "      <td>21984.47061</td>\n",
       "      <td>1</td>\n",
       "      <td>0</td>\n",
       "    </tr>\n",
       "    <tr>\n",
       "      <th>4</th>\n",
       "      <td>32</td>\n",
       "      <td>male</td>\n",
       "      <td>28.880</td>\n",
       "      <td>0</td>\n",
       "      <td>northwest</td>\n",
       "      <td>3866.85520</td>\n",
       "      <td>1</td>\n",
       "      <td>0</td>\n",
       "    </tr>\n",
       "  </tbody>\n",
       "</table>\n",
       "</div>"
      ],
      "text/plain": [
       "   age     sex     bmi  children     region      charges  smoker_no  \\\n",
       "0   19  female  27.900         0  southwest  16884.92400          0   \n",
       "1   18    male  33.770         1  southeast   1725.55230          1   \n",
       "2   28    male  33.000         3  southeast   4449.46200          1   \n",
       "3   33    male  22.705         0  northwest  21984.47061          1   \n",
       "4   32    male  28.880         0  northwest   3866.85520          1   \n",
       "\n",
       "   smoker_yes  \n",
       "0           1  \n",
       "1           0  \n",
       "2           0  \n",
       "3           0  \n",
       "4           0  "
      ]
     },
     "execution_count": 13,
     "metadata": {},
     "output_type": "execute_result"
    }
   ],
   "source": [
    "df = pd.read_csv(\"data/05-insurance_ohe.csv\")\n",
    "df.head()"
   ]
  },
  {
   "cell_type": "code",
   "execution_count": 14,
   "id": "c521bbc0",
   "metadata": {},
   "outputs": [],
   "source": [
    "# Data preparation\n",
    "\n",
    "x_class = df[['age', 'bmi', 'smoker_yes']]\n",
    "y_class = df[['charges']]\n",
    "\n",
    "x_train, x_test, y_train, y_test = train_test_split(x_class, y_class, \n",
    "                                                    train_size=.8, test_size=.2)  "
   ]
  },
  {
   "cell_type": "code",
   "execution_count": 15,
   "id": "9fd87022",
   "metadata": {},
   "outputs": [
    {
     "name": "stdout",
     "output_type": "stream",
     "text": [
      "lr.intercept_: [-11580.70772937]\n",
      "lr.coef_: [[  269.21812733   308.84168489 24209.7753447 ]]\n"
     ]
    }
   ],
   "source": [
    "# Linear regression with dummy variables\n",
    "regr = linear_model.LinearRegression()\n",
    "regr.fit(x_train, y_train)\n",
    "\n",
    "print(\"lr.intercept_:\", regr.intercept_) # b0\n",
    "print(\"lr.coef_:\", regr.coef_) # b1 for 'age', b2 for 'bmi', b3 for 'smoker'"
   ]
  },
  {
   "cell_type": "markdown",
   "id": "2fff5348",
   "metadata": {},
   "source": [
    "Model for non-smokers is<br>\n",
    "<i>charges = -11580.7 + 269.2 * age + 308.8 * bmi</i>\n",
    "\n",
    "Model for smokers is<br>\n",
    "<i>charges = 12629.1 + 269.2 * age + 308.8 * bmi</i>"
   ]
  },
  {
   "cell_type": "code",
   "execution_count": null,
   "id": "d959deef",
   "metadata": {},
   "outputs": [],
   "source": []
  }
 ],
 "metadata": {
  "kernelspec": {
   "display_name": "Python 3 (ipykernel)",
   "language": "python",
   "name": "python3"
  },
  "language_info": {
   "codemirror_mode": {
    "name": "ipython",
    "version": 3
   },
   "file_extension": ".py",
   "mimetype": "text/x-python",
   "name": "python",
   "nbconvert_exporter": "python",
   "pygments_lexer": "ipython3",
   "version": "3.9.7"
  }
 },
 "nbformat": 4,
 "nbformat_minor": 5
}
